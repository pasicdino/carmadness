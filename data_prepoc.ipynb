{
 "cells": [
  {
   "cell_type": "code",
   "execution_count": 3,
   "metadata": {
    "collapsed": false
   },
   "outputs": [],
   "source": [
    "import numpy as np\n",
    "import pandas as pd\n",
    "\n",
    "import matplotlib.pyplot as plt\n",
    "import seaborn as sns\n",
    "\n",
    "from sklearn import linear_model as lm\n",
    "from sklearn.model_selection import train_test_split\n",
    "from sklearn.model_selection import KFold\n",
    "\n",
    "# Plot settings\n",
    "plt.rcParams['figure.figsize'] = (12, 9)\n",
    "plt.rcParams['font.size'] = 12"
   ]
  },
  {
   "cell_type": "code",
   "execution_count": 4,
   "metadata": {
    "collapsed": true
   },
   "outputs": [],
   "source": [
    "df = pd.read_csv('data/data.csv')\n"
   ]
  },
  {
   "cell_type": "markdown",
   "metadata": {
    "collapsed": false
   },
   "source": [
    "Check contents of cells; lot of cleaning to be done!"
   ]
  },
  {
   "cell_type": "code",
   "execution_count": 5,
   "metadata": {
    "collapsed": false
   },
   "outputs": [
    {
     "data": {
      "text/plain": "       Unnamed: 0                                              Title  \\\n0               0  Overheidsveiling bedrijfsvoertuigen & groen- e...   \n1               1  Fiat Doblo Cargo 1.9 JTD Grijs Kenteken Bestel...   \n2               2  Ford Ranger Open-laadbak 2.2TDCI 160PK Dubbele...   \n3               3  Aixam Roadline -2008- incl. 3 mnd garantie + o...   \n4               4         Audi A3 S-Line Sportback Facelift 2013 Wit   \n...           ...                                                ...   \n13391       13391           Renault Trafic L2 H1 2021 €344 per maand   \n13392       13392           Renault Master L3 H1 2022 €635 per maand   \n13393       13393              Iveco Daily L2 H2 2022 €648 per maand   \n13394       13394       Volkswagen Crafter L2 H2 2017 €247 per maand   \n13395       13395   Volkswagen Transporter L1 H1 2018 €289 per maand   \n\n                     Seller           Price        Location   Year  \\\n0      Onlineveilingmeester  e omschrijving      Heerenveen    NaN   \n1                 I Boumans        18.500,-          Gennep  2005    \n2                DUTCH Vans        22.600,-       Barneveld  2017    \n3       Garage Kaal & Buunk         6.950,-            Beek  2008    \n4                    Jeroen        11.000,-            Lent  2013    \n...                     ...             ...             ...    ...   \n13391          Action Lease        24.700,-  Heel Nederland  2021    \n13392          Action Lease        41.800,-  Heel Nederland  2022    \n13393          Action Lease        42.600,-  Heel Nederland  2022    \n13394          Action Lease        17.600,-  Heel Nederland  2017    \n13395          Action Lease        20.800,-  Heel Nederland  2018    \n\n              Ran Engine Type     Transmission Body           province  \n0             NaN         NaN              NaN  NaN            Fryslân  \n1      199.313 km     Diesel   Handgeschakeld   NaN            Limburg  \n2      107.195 km     Diesel   Handgeschakeld   NaN         Gelderland  \n3       47.108 km     Diesel         Automaat   NaN            Limburg  \n4      201.500 km         NaN              NaN  NaN         Gelderland  \n...           ...         ...              ...  ...                ...  \n13391   67.051 km     Diesel   Handgeschakeld   NaN  In every province  \n13392       60 km     Diesel   Handgeschakeld   NaN  In every province  \n13393       30 km     Diesel         Automaat   NaN  In every province  \n13394  198.504 km     Diesel   Handgeschakeld   NaN  In every province  \n13395  189.595 km     Diesel   Handgeschakeld   NaN  In every province  \n\n[13396 rows x 11 columns]",
      "text/html": "<div>\n<style scoped>\n    .dataframe tbody tr th:only-of-type {\n        vertical-align: middle;\n    }\n\n    .dataframe tbody tr th {\n        vertical-align: top;\n    }\n\n    .dataframe thead th {\n        text-align: right;\n    }\n</style>\n<table border=\"1\" class=\"dataframe\">\n  <thead>\n    <tr style=\"text-align: right;\">\n      <th></th>\n      <th>Unnamed: 0</th>\n      <th>Title</th>\n      <th>Seller</th>\n      <th>Price</th>\n      <th>Location</th>\n      <th>Year</th>\n      <th>Ran</th>\n      <th>Engine Type</th>\n      <th>Transmission</th>\n      <th>Body</th>\n      <th>province</th>\n    </tr>\n  </thead>\n  <tbody>\n    <tr>\n      <th>0</th>\n      <td>0</td>\n      <td>Overheidsveiling bedrijfsvoertuigen &amp; groen- e...</td>\n      <td>Onlineveilingmeester</td>\n      <td>e omschrijving</td>\n      <td>Heerenveen</td>\n      <td>NaN</td>\n      <td>NaN</td>\n      <td>NaN</td>\n      <td>NaN</td>\n      <td>NaN</td>\n      <td>Fryslân</td>\n    </tr>\n    <tr>\n      <th>1</th>\n      <td>1</td>\n      <td>Fiat Doblo Cargo 1.9 JTD Grijs Kenteken Bestel...</td>\n      <td>I Boumans</td>\n      <td>18.500,-</td>\n      <td>Gennep</td>\n      <td>2005</td>\n      <td>199.313 km</td>\n      <td>Diesel</td>\n      <td>Handgeschakeld</td>\n      <td>NaN</td>\n      <td>Limburg</td>\n    </tr>\n    <tr>\n      <th>2</th>\n      <td>2</td>\n      <td>Ford Ranger Open-laadbak 2.2TDCI 160PK Dubbele...</td>\n      <td>DUTCH Vans</td>\n      <td>22.600,-</td>\n      <td>Barneveld</td>\n      <td>2017</td>\n      <td>107.195 km</td>\n      <td>Diesel</td>\n      <td>Handgeschakeld</td>\n      <td>NaN</td>\n      <td>Gelderland</td>\n    </tr>\n    <tr>\n      <th>3</th>\n      <td>3</td>\n      <td>Aixam Roadline -2008- incl. 3 mnd garantie + o...</td>\n      <td>Garage Kaal &amp; Buunk</td>\n      <td>6.950,-</td>\n      <td>Beek</td>\n      <td>2008</td>\n      <td>47.108 km</td>\n      <td>Diesel</td>\n      <td>Automaat</td>\n      <td>NaN</td>\n      <td>Limburg</td>\n    </tr>\n    <tr>\n      <th>4</th>\n      <td>4</td>\n      <td>Audi A3 S-Line Sportback Facelift 2013 Wit</td>\n      <td>Jeroen</td>\n      <td>11.000,-</td>\n      <td>Lent</td>\n      <td>2013</td>\n      <td>201.500 km</td>\n      <td>NaN</td>\n      <td>NaN</td>\n      <td>NaN</td>\n      <td>Gelderland</td>\n    </tr>\n    <tr>\n      <th>...</th>\n      <td>...</td>\n      <td>...</td>\n      <td>...</td>\n      <td>...</td>\n      <td>...</td>\n      <td>...</td>\n      <td>...</td>\n      <td>...</td>\n      <td>...</td>\n      <td>...</td>\n      <td>...</td>\n    </tr>\n    <tr>\n      <th>13391</th>\n      <td>13391</td>\n      <td>Renault Trafic L2 H1 2021 €344 per maand</td>\n      <td>Action Lease</td>\n      <td>24.700,-</td>\n      <td>Heel Nederland</td>\n      <td>2021</td>\n      <td>67.051 km</td>\n      <td>Diesel</td>\n      <td>Handgeschakeld</td>\n      <td>NaN</td>\n      <td>In every province</td>\n    </tr>\n    <tr>\n      <th>13392</th>\n      <td>13392</td>\n      <td>Renault Master L3 H1 2022 €635 per maand</td>\n      <td>Action Lease</td>\n      <td>41.800,-</td>\n      <td>Heel Nederland</td>\n      <td>2022</td>\n      <td>60 km</td>\n      <td>Diesel</td>\n      <td>Handgeschakeld</td>\n      <td>NaN</td>\n      <td>In every province</td>\n    </tr>\n    <tr>\n      <th>13393</th>\n      <td>13393</td>\n      <td>Iveco Daily L2 H2 2022 €648 per maand</td>\n      <td>Action Lease</td>\n      <td>42.600,-</td>\n      <td>Heel Nederland</td>\n      <td>2022</td>\n      <td>30 km</td>\n      <td>Diesel</td>\n      <td>Automaat</td>\n      <td>NaN</td>\n      <td>In every province</td>\n    </tr>\n    <tr>\n      <th>13394</th>\n      <td>13394</td>\n      <td>Volkswagen Crafter L2 H2 2017 €247 per maand</td>\n      <td>Action Lease</td>\n      <td>17.600,-</td>\n      <td>Heel Nederland</td>\n      <td>2017</td>\n      <td>198.504 km</td>\n      <td>Diesel</td>\n      <td>Handgeschakeld</td>\n      <td>NaN</td>\n      <td>In every province</td>\n    </tr>\n    <tr>\n      <th>13395</th>\n      <td>13395</td>\n      <td>Volkswagen Transporter L1 H1 2018 €289 per maand</td>\n      <td>Action Lease</td>\n      <td>20.800,-</td>\n      <td>Heel Nederland</td>\n      <td>2018</td>\n      <td>189.595 km</td>\n      <td>Diesel</td>\n      <td>Handgeschakeld</td>\n      <td>NaN</td>\n      <td>In every province</td>\n    </tr>\n  </tbody>\n</table>\n<p>13396 rows × 11 columns</p>\n</div>"
     },
     "execution_count": 5,
     "metadata": {},
     "output_type": "execute_result"
    }
   ],
   "source": [
    "df"
   ]
  },
  {
   "cell_type": "code",
   "execution_count": 6,
   "metadata": {
    "collapsed": false
   },
   "outputs": [
    {
     "data": {
      "text/plain": "Hatchback                 1431\nSUV of Terreinwagen       1100\nStationwagon               481\nSedan                      377\nCabriolet                  260\nMPV                        162\nCoupé                      137\nOverige carrosserieën       83\nName: Body, dtype: int64"
     },
     "execution_count": 6,
     "metadata": {},
     "output_type": "execute_result"
    }
   ],
   "source": [
    "df.Body.value_counts()"
   ]
  },
  {
   "cell_type": "markdown",
   "metadata": {
    "collapsed": false
   },
   "source": [
    "Exctract only correct values, by mapping the correct values all others will be set to NaN"
   ]
  },
  {
   "cell_type": "code",
   "execution_count": 7,
   "metadata": {
    "collapsed": false
   },
   "outputs": [
    {
     "name": "stderr",
     "output_type": "stream",
     "text": [
      "C:\\Users\\01din\\AppData\\Local\\Temp\\ipykernel_4388\\2221052416.py:3: FutureWarning: The pandas.np module is deprecated and will be removed from pandas in a future version. Import numpy directly instead.\n",
      "  df.loc[~df['Body'].isin(bodies), 'Body'] = pd.np.nan\n"
     ]
    }
   ],
   "source": [
    "bodies = ['Overige carrosserieën ', 'Stationwagon ', 'Coupé ', 'SUV of Terreinwagen ', 'Hatchback ', 'Sedan ', 'Cabriolet ', 'MPV ']\n",
    "\n",
    "df.loc[~df['Body'].isin(bodies), 'Body'] = pd.np.nan"
   ]
  },
  {
   "cell_type": "code",
   "execution_count": 8,
   "metadata": {
    "collapsed": false
   },
   "outputs": [
    {
     "data": {
      "text/plain": "Hatchback                 1431\nSUV of Terreinwagen       1100\nStationwagon               481\nSedan                      377\nCabriolet                  260\nMPV                        162\nCoupé                      137\nOverige carrosserieën       83\nName: Body, dtype: int64"
     },
     "execution_count": 8,
     "metadata": {},
     "output_type": "execute_result"
    }
   ],
   "source": [
    "df.Body.value_counts()"
   ]
  },
  {
   "cell_type": "code",
   "execution_count": 9,
   "metadata": {
    "collapsed": false
   },
   "outputs": [
    {
     "data": {
      "text/plain": "Handgeschakeld     5491\nAutomaat           3697\nName: Transmission, dtype: int64"
     },
     "execution_count": 9,
     "metadata": {},
     "output_type": "execute_result"
    }
   ],
   "source": [
    "df.Transmission.value_counts()"
   ]
  },
  {
   "cell_type": "code",
   "execution_count": 10,
   "metadata": {
    "collapsed": false
   },
   "outputs": [
    {
     "name": "stderr",
     "output_type": "stream",
     "text": [
      "C:\\Users\\01din\\AppData\\Local\\Temp\\ipykernel_4388\\898678673.py:3: FutureWarning: The pandas.np module is deprecated and will be removed from pandas in a future version. Import numpy directly instead.\n",
      "  df.loc[~df['Transmission'].isin(transmissions), 'Transmission'] = pd.np.nan\n"
     ]
    }
   ],
   "source": [
    "transmissions = ['Handgeschakeld ', 'Automaat ']\n",
    "\n",
    "df.loc[~df['Transmission'].isin(transmissions), 'Transmission'] = pd.np.nan"
   ]
  },
  {
   "cell_type": "code",
   "execution_count": 11,
   "metadata": {
    "collapsed": false
   },
   "outputs": [
    {
     "data": {
      "text/plain": "Handgeschakeld     5491\nAutomaat           3697\nName: Transmission, dtype: int64"
     },
     "execution_count": 11,
     "metadata": {},
     "output_type": "execute_result"
    }
   ],
   "source": [
    "df.Transmission.value_counts()"
   ]
  },
  {
   "cell_type": "code",
   "execution_count": 12,
   "metadata": {
    "collapsed": false
   },
   "outputs": [
    {
     "data": {
      "text/plain": "Diesel                         5539\nBenzine                        3124\nElektrisch                      196\nHybride Elektrisch/Benzine      156\nOverige brandstoffen            125\nLPG                             113\nHybride Elektrisch/Diesel         5\nCNG (Aardgas)                     4\nName: Engine Type, dtype: int64"
     },
     "execution_count": 12,
     "metadata": {},
     "output_type": "execute_result"
    }
   ],
   "source": [
    "df['Engine Type'].value_counts()"
   ]
  },
  {
   "cell_type": "code",
   "execution_count": 13,
   "metadata": {
    "collapsed": false
   },
   "outputs": [
    {
     "name": "stderr",
     "output_type": "stream",
     "text": [
      "C:\\Users\\01din\\AppData\\Local\\Temp\\ipykernel_4388\\3416857473.py:3: FutureWarning: The pandas.np module is deprecated and will be removed from pandas in a future version. Import numpy directly instead.\n",
      "  df.loc[~df['Engine Type'].isin(engine_types), 'Engine Type'] = pd.np.nan\n"
     ]
    }
   ],
   "source": [
    "engine_types = ['Diesel ', 'Benzine ', 'Elektrisch ', 'Hybride Elektrisch/Benzine ', 'Overige brandstoffen ', 'LPG ', 'Hybride Elektrisch/Diesel ', 'CNG (Aardgas) ']\n",
    "\n",
    "df.loc[~df['Engine Type'].isin(engine_types), 'Engine Type'] = pd.np.nan"
   ]
  },
  {
   "cell_type": "code",
   "execution_count": 14,
   "metadata": {
    "collapsed": false
   },
   "outputs": [
    {
     "data": {
      "text/plain": "Diesel                         5539\nBenzine                        3124\nElektrisch                      196\nHybride Elektrisch/Benzine      156\nOverige brandstoffen            125\nLPG                             113\nHybride Elektrisch/Diesel         5\nCNG (Aardgas)                     4\nName: Engine Type, dtype: int64"
     },
     "execution_count": 14,
     "metadata": {},
     "output_type": "execute_result"
    }
   ],
   "source": [
    "df['Engine Type'].value_counts()"
   ]
  },
  {
   "cell_type": "code",
   "execution_count": 15,
   "metadata": {
    "collapsed": false
   },
   "outputs": [
    {
     "data": {
      "text/plain": "'199.313 km'"
     },
     "execution_count": 15,
     "metadata": {},
     "output_type": "execute_result"
    }
   ],
   "source": [
    "df.Ran.iloc[1]"
   ]
  },
  {
   "cell_type": "code",
   "execution_count": 16,
   "metadata": {
    "collapsed": false
   },
   "outputs": [],
   "source": [
    "df.Ran = df.Ran.astype(str)\n",
    "mask = ~df['Ran'].str.endswith('km')"
   ]
  },
  {
   "cell_type": "code",
   "execution_count": 17,
   "metadata": {
    "collapsed": false
   },
   "outputs": [],
   "source": [
    "df.loc[mask, 'Ran'] = np.nan"
   ]
  },
  {
   "cell_type": "code",
   "execution_count": 18,
   "metadata": {
    "collapsed": false
   },
   "outputs": [
    {
     "data": {
      "text/plain": "1 km          72\n10 km         44\n92.330 km     41\n100 km        34\n60.367 km     31\n              ..\n60.507 km      1\n111.522 km     1\n53.497 km      1\n79.745 km      1\n189.595 km     1\nName: Ran, Length: 6635, dtype: int64"
     },
     "execution_count": 18,
     "metadata": {},
     "output_type": "execute_result"
    }
   ],
   "source": [
    "df.Ran.value_counts()"
   ]
  },
  {
   "cell_type": "code",
   "execution_count": 19,
   "metadata": {
    "collapsed": false
   },
   "outputs": [],
   "source": [
    "df.Year = df.Year.astype(str)\n",
    "mask = ~df['Year'].str.len() == 4"
   ]
  },
  {
   "cell_type": "code",
   "execution_count": 20,
   "metadata": {
    "collapsed": false
   },
   "outputs": [],
   "source": [
    "df.loc[mask, 'Year'] = np.nan"
   ]
  },
  {
   "cell_type": "code",
   "execution_count": 21,
   "metadata": {
    "collapsed": false
   },
   "outputs": [
    {
     "data": {
      "text/plain": "2018          1684\n2017          1377\n2019          1266\n2016          1092\n2020          1031\n              ... \n1976             1\n20.456 km        1\n98.119 km        1\n103.276 km       1\n50.213 km        1\nName: Year, Length: 135, dtype: int64"
     },
     "execution_count": 21,
     "metadata": {},
     "output_type": "execute_result"
    }
   ],
   "source": [
    "df.Year.value_counts()"
   ]
  },
  {
   "cell_type": "code",
   "execution_count": 22,
   "metadata": {
    "collapsed": false
   },
   "outputs": [],
   "source": [
    "# import requests\n",
    "# import json\n",
    "#\n",
    "# url = 'https://metatopos.dijkewijk.nl/metatopos-places.json'\n",
    "# response = requests.get(url)\n",
    "#\n",
    "# if response.status_code == 200:\n",
    "#     json_content = json.loads(response.content)\n",
    "#     print(json_content)\n",
    "# else:\n",
    "#     print('Failed to retrieve JSON content from the URL')"
   ]
  },
  {
   "cell_type": "code",
   "execution_count": 23,
   "metadata": {
    "collapsed": false
   },
   "outputs": [],
   "source": [
    "# places = json_content.get('places')\n",
    "# with open('data/places.json', 'w') as outfile:\n",
    "#     json.dump(places, outfile)"
   ]
  },
  {
   "cell_type": "code",
   "execution_count": 24,
   "metadata": {
    "collapsed": false
   },
   "outputs": [],
   "source": [
    "places_df = pd.read_json('data/places.json')\n",
    "places_df = places_df[['place', 'municipality', 'province']]"
   ]
  },
  {
   "cell_type": "code",
   "execution_count": 25,
   "metadata": {
    "collapsed": false
   },
   "outputs": [],
   "source": [
    "municipalities = places_df.municipality.unique()\n",
    "places = places_df.place.unique()\n",
    "for municipality in municipalities:\n",
    "    if municipality not in places:\n",
    "        temp_df = pd.DataFrame({'place':municipality, 'municipality':municipality, 'province':places_df.province.loc[places_df.municipality == municipality].iloc[0]}, index=[0])\n",
    "        places_df = pd.concat([places_df,temp_df], axis=0)\n",
    "places_df = places_df[['place', 'province']]\n",
    "places_df.rename(columns={'place':'Location'}, inplace=True)"
   ]
  },
  {
   "cell_type": "code",
   "execution_count": 26,
   "metadata": {
    "collapsed": false
   },
   "outputs": [
    {
     "data": {
      "text/plain": "                 Location       province\n0           1e Exloërmond        Drenthe\n1           2e Exloërmond        Drenthe\n2          2e Valthermond        Drenthe\n3             2e Vlotbrug   Zuid-Holland\n4            's-Graveland  Noord-Holland\n..                    ...            ...\n0            Drechterland  Noord-Holland\n0              Wormerland  Noord-Holland\n0           Albrandswaard   Zuid-Holland\n0   Leidschendam-Voorburg   Zuid-Holland\n0               Teylingen   Zuid-Holland\n\n[5571 rows x 2 columns]",
      "text/html": "<div>\n<style scoped>\n    .dataframe tbody tr th:only-of-type {\n        vertical-align: middle;\n    }\n\n    .dataframe tbody tr th {\n        vertical-align: top;\n    }\n\n    .dataframe thead th {\n        text-align: right;\n    }\n</style>\n<table border=\"1\" class=\"dataframe\">\n  <thead>\n    <tr style=\"text-align: right;\">\n      <th></th>\n      <th>Location</th>\n      <th>province</th>\n    </tr>\n  </thead>\n  <tbody>\n    <tr>\n      <th>0</th>\n      <td>1e Exloërmond</td>\n      <td>Drenthe</td>\n    </tr>\n    <tr>\n      <th>1</th>\n      <td>2e Exloërmond</td>\n      <td>Drenthe</td>\n    </tr>\n    <tr>\n      <th>2</th>\n      <td>2e Valthermond</td>\n      <td>Drenthe</td>\n    </tr>\n    <tr>\n      <th>3</th>\n      <td>2e Vlotbrug</td>\n      <td>Zuid-Holland</td>\n    </tr>\n    <tr>\n      <th>4</th>\n      <td>'s-Graveland</td>\n      <td>Noord-Holland</td>\n    </tr>\n    <tr>\n      <th>...</th>\n      <td>...</td>\n      <td>...</td>\n    </tr>\n    <tr>\n      <th>0</th>\n      <td>Drechterland</td>\n      <td>Noord-Holland</td>\n    </tr>\n    <tr>\n      <th>0</th>\n      <td>Wormerland</td>\n      <td>Noord-Holland</td>\n    </tr>\n    <tr>\n      <th>0</th>\n      <td>Albrandswaard</td>\n      <td>Zuid-Holland</td>\n    </tr>\n    <tr>\n      <th>0</th>\n      <td>Leidschendam-Voorburg</td>\n      <td>Zuid-Holland</td>\n    </tr>\n    <tr>\n      <th>0</th>\n      <td>Teylingen</td>\n      <td>Zuid-Holland</td>\n    </tr>\n  </tbody>\n</table>\n<p>5571 rows × 2 columns</p>\n</div>"
     },
     "execution_count": 26,
     "metadata": {},
     "output_type": "execute_result"
    }
   ],
   "source": [
    "places_df.drop_duplicates(subset=['Location'])"
   ]
  },
  {
   "cell_type": "code",
   "execution_count": 27,
   "outputs": [],
   "source": [
    "df = df.merge(places_df[['Location', 'province']].drop_duplicates(subset=['Location']), on='Location', how='left')\n",
    "df = df.merge(places_df[['Location', 'province']].drop_duplicates(subset=['Location']), on='Location', how='left')"
   ],
   "metadata": {
    "collapsed": false
   }
  },
  {
   "cell_type": "code",
   "execution_count": 28,
   "metadata": {
    "collapsed": false
   },
   "outputs": [],
   "source": [
    "df['province'].fillna('In every province', inplace=True)"
   ]
  },
  {
   "cell_type": "code",
   "execution_count": 29,
   "metadata": {
    "collapsed": false
   },
   "outputs": [],
   "source": [
    "df.drop(['Unnamed: 0'], axis=1, inplace=True)"
   ]
  },
  {
   "cell_type": "markdown",
   "source": [
    "In order to work with the values in the columns, we must convert numerical values to numbers, rather than string. This can be done using regex."
   ],
   "metadata": {
    "collapsed": false
   }
  },
  {
   "cell_type": "code",
   "execution_count": 30,
   "outputs": [
    {
     "data": {
      "text/plain": "                                                   Title               Seller  \\\n1      Fiat Doblo Cargo 1.9 JTD Grijs Kenteken Bestel...            I Boumans   \n2      Ford Ranger Open-laadbak 2.2TDCI 160PK Dubbele...           DUTCH Vans   \n3      Aixam Roadline -2008- incl. 3 mnd garantie + o...  Garage Kaal & Buunk   \n4             Audi A3 S-Line Sportback Facelift 2013 Wit               Jeroen   \n5      Mercedes-Benz Sprinter 314CDI 143pk L2H2 Koelw...     Van der Wal Vans   \n...                                                  ...                  ...   \n13391           Renault Trafic L2 H1 2021 €344 per maand         Action Lease   \n13392           Renault Master L3 H1 2022 €635 per maand         Action Lease   \n13393              Iveco Daily L2 H2 2022 €648 per maand         Action Lease   \n13394       Volkswagen Crafter L2 H2 2017 €247 per maand         Action Lease   \n13395   Volkswagen Transporter L1 H1 2018 €289 per maand         Action Lease   \n\n       Price        Location   Year       Ran Engine Type     Transmission  \\\n1      18500          Gennep  2005   199313.0     Diesel   Handgeschakeld    \n2      22600       Barneveld  2017   107195.0     Diesel   Handgeschakeld    \n3       6950            Beek  2008    47108.0     Diesel         Automaat    \n4      11000            Lent  2013   201500.0         NaN              NaN   \n5      32900        Langerak  2018   148939.0     Diesel   Handgeschakeld    \n...      ...             ...    ...       ...         ...              ...   \n13391  24700  Heel Nederland  2021    67051.0     Diesel   Handgeschakeld    \n13392  41800  Heel Nederland  2022       60.0     Diesel   Handgeschakeld    \n13393  42600  Heel Nederland  2022       30.0     Diesel         Automaat    \n13394  17600  Heel Nederland  2017   198504.0     Diesel   Handgeschakeld    \n13395  20800  Heel Nederland  2018   189595.0     Diesel   Handgeschakeld    \n\n      Body         province_x  province_y           province  \n1      NaN            Limburg     Limburg            Limburg  \n2      NaN         Gelderland  Gelderland         Gelderland  \n3      NaN            Limburg     Limburg            Limburg  \n4      NaN         Gelderland  Gelderland         Gelderland  \n5      NaN            Drenthe     Drenthe            Drenthe  \n...    ...                ...         ...                ...  \n13391  NaN  In every province         NaN  In every province  \n13392  NaN  In every province         NaN  In every province  \n13393  NaN  In every province         NaN  In every province  \n13394  NaN  In every province         NaN  In every province  \n13395  NaN  In every province         NaN  In every province  \n\n[13006 rows x 12 columns]",
      "text/html": "<div>\n<style scoped>\n    .dataframe tbody tr th:only-of-type {\n        vertical-align: middle;\n    }\n\n    .dataframe tbody tr th {\n        vertical-align: top;\n    }\n\n    .dataframe thead th {\n        text-align: right;\n    }\n</style>\n<table border=\"1\" class=\"dataframe\">\n  <thead>\n    <tr style=\"text-align: right;\">\n      <th></th>\n      <th>Title</th>\n      <th>Seller</th>\n      <th>Price</th>\n      <th>Location</th>\n      <th>Year</th>\n      <th>Ran</th>\n      <th>Engine Type</th>\n      <th>Transmission</th>\n      <th>Body</th>\n      <th>province_x</th>\n      <th>province_y</th>\n      <th>province</th>\n    </tr>\n  </thead>\n  <tbody>\n    <tr>\n      <th>1</th>\n      <td>Fiat Doblo Cargo 1.9 JTD Grijs Kenteken Bestel...</td>\n      <td>I Boumans</td>\n      <td>18500</td>\n      <td>Gennep</td>\n      <td>2005</td>\n      <td>199313.0</td>\n      <td>Diesel</td>\n      <td>Handgeschakeld</td>\n      <td>NaN</td>\n      <td>Limburg</td>\n      <td>Limburg</td>\n      <td>Limburg</td>\n    </tr>\n    <tr>\n      <th>2</th>\n      <td>Ford Ranger Open-laadbak 2.2TDCI 160PK Dubbele...</td>\n      <td>DUTCH Vans</td>\n      <td>22600</td>\n      <td>Barneveld</td>\n      <td>2017</td>\n      <td>107195.0</td>\n      <td>Diesel</td>\n      <td>Handgeschakeld</td>\n      <td>NaN</td>\n      <td>Gelderland</td>\n      <td>Gelderland</td>\n      <td>Gelderland</td>\n    </tr>\n    <tr>\n      <th>3</th>\n      <td>Aixam Roadline -2008- incl. 3 mnd garantie + o...</td>\n      <td>Garage Kaal &amp; Buunk</td>\n      <td>6950</td>\n      <td>Beek</td>\n      <td>2008</td>\n      <td>47108.0</td>\n      <td>Diesel</td>\n      <td>Automaat</td>\n      <td>NaN</td>\n      <td>Limburg</td>\n      <td>Limburg</td>\n      <td>Limburg</td>\n    </tr>\n    <tr>\n      <th>4</th>\n      <td>Audi A3 S-Line Sportback Facelift 2013 Wit</td>\n      <td>Jeroen</td>\n      <td>11000</td>\n      <td>Lent</td>\n      <td>2013</td>\n      <td>201500.0</td>\n      <td>NaN</td>\n      <td>NaN</td>\n      <td>NaN</td>\n      <td>Gelderland</td>\n      <td>Gelderland</td>\n      <td>Gelderland</td>\n    </tr>\n    <tr>\n      <th>5</th>\n      <td>Mercedes-Benz Sprinter 314CDI 143pk L2H2 Koelw...</td>\n      <td>Van der Wal Vans</td>\n      <td>32900</td>\n      <td>Langerak</td>\n      <td>2018</td>\n      <td>148939.0</td>\n      <td>Diesel</td>\n      <td>Handgeschakeld</td>\n      <td>NaN</td>\n      <td>Drenthe</td>\n      <td>Drenthe</td>\n      <td>Drenthe</td>\n    </tr>\n    <tr>\n      <th>...</th>\n      <td>...</td>\n      <td>...</td>\n      <td>...</td>\n      <td>...</td>\n      <td>...</td>\n      <td>...</td>\n      <td>...</td>\n      <td>...</td>\n      <td>...</td>\n      <td>...</td>\n      <td>...</td>\n      <td>...</td>\n    </tr>\n    <tr>\n      <th>13391</th>\n      <td>Renault Trafic L2 H1 2021 €344 per maand</td>\n      <td>Action Lease</td>\n      <td>24700</td>\n      <td>Heel Nederland</td>\n      <td>2021</td>\n      <td>67051.0</td>\n      <td>Diesel</td>\n      <td>Handgeschakeld</td>\n      <td>NaN</td>\n      <td>In every province</td>\n      <td>NaN</td>\n      <td>In every province</td>\n    </tr>\n    <tr>\n      <th>13392</th>\n      <td>Renault Master L3 H1 2022 €635 per maand</td>\n      <td>Action Lease</td>\n      <td>41800</td>\n      <td>Heel Nederland</td>\n      <td>2022</td>\n      <td>60.0</td>\n      <td>Diesel</td>\n      <td>Handgeschakeld</td>\n      <td>NaN</td>\n      <td>In every province</td>\n      <td>NaN</td>\n      <td>In every province</td>\n    </tr>\n    <tr>\n      <th>13393</th>\n      <td>Iveco Daily L2 H2 2022 €648 per maand</td>\n      <td>Action Lease</td>\n      <td>42600</td>\n      <td>Heel Nederland</td>\n      <td>2022</td>\n      <td>30.0</td>\n      <td>Diesel</td>\n      <td>Automaat</td>\n      <td>NaN</td>\n      <td>In every province</td>\n      <td>NaN</td>\n      <td>In every province</td>\n    </tr>\n    <tr>\n      <th>13394</th>\n      <td>Volkswagen Crafter L2 H2 2017 €247 per maand</td>\n      <td>Action Lease</td>\n      <td>17600</td>\n      <td>Heel Nederland</td>\n      <td>2017</td>\n      <td>198504.0</td>\n      <td>Diesel</td>\n      <td>Handgeschakeld</td>\n      <td>NaN</td>\n      <td>In every province</td>\n      <td>NaN</td>\n      <td>In every province</td>\n    </tr>\n    <tr>\n      <th>13395</th>\n      <td>Volkswagen Transporter L1 H1 2018 €289 per maand</td>\n      <td>Action Lease</td>\n      <td>20800</td>\n      <td>Heel Nederland</td>\n      <td>2018</td>\n      <td>189595.0</td>\n      <td>Diesel</td>\n      <td>Handgeschakeld</td>\n      <td>NaN</td>\n      <td>In every province</td>\n      <td>NaN</td>\n      <td>In every province</td>\n    </tr>\n  </tbody>\n</table>\n<p>13006 rows × 12 columns</p>\n</div>"
     },
     "execution_count": 30,
     "metadata": {},
     "output_type": "execute_result"
    }
   ],
   "source": [
    "df['Price'] = df['Price'].str.replace('[^0-9]', '', regex=True)\n",
    "df['Price'] = df['Price'].replace('', np.nan)\n",
    "df = df.dropna(subset=['Price'])\n",
    "df['Price'] = pd.to_numeric(df['Price'])\n",
    "df['Ran'] = df['Ran'].str.replace('[^0-9]', '', regex=True)\n",
    "df['Price'] = df['Price'].replace('', np.nan)\n",
    "df = df.dropna(subset=['Price'])\n",
    "df['Ran'] = pd.to_numeric(df['Ran'])\n",
    "df"
   ],
   "metadata": {
    "collapsed": false
   }
  },
  {
   "attachments": {},
   "cell_type": "markdown",
   "metadata": {},
   "source": []
  },
  {
   "cell_type": "code",
   "execution_count": 31,
   "outputs": [
    {
     "data": {
      "text/plain": "            make\n0     alfa romeo\n1   aston martin\n2           audi\n3            bmw\n4      chevrolet\n..           ...\n61      ssanyong\n62      daihatsu\n63        hummer\n64         smart\n65         range\n\n[66 rows x 1 columns]",
      "text/html": "<div>\n<style scoped>\n    .dataframe tbody tr th:only-of-type {\n        vertical-align: middle;\n    }\n\n    .dataframe tbody tr th {\n        vertical-align: top;\n    }\n\n    .dataframe thead th {\n        text-align: right;\n    }\n</style>\n<table border=\"1\" class=\"dataframe\">\n  <thead>\n    <tr style=\"text-align: right;\">\n      <th></th>\n      <th>make</th>\n    </tr>\n  </thead>\n  <tbody>\n    <tr>\n      <th>0</th>\n      <td>alfa romeo</td>\n    </tr>\n    <tr>\n      <th>1</th>\n      <td>aston martin</td>\n    </tr>\n    <tr>\n      <th>2</th>\n      <td>audi</td>\n    </tr>\n    <tr>\n      <th>3</th>\n      <td>bmw</td>\n    </tr>\n    <tr>\n      <th>4</th>\n      <td>chevrolet</td>\n    </tr>\n    <tr>\n      <th>...</th>\n      <td>...</td>\n    </tr>\n    <tr>\n      <th>61</th>\n      <td>ssanyong</td>\n    </tr>\n    <tr>\n      <th>62</th>\n      <td>daihatsu</td>\n    </tr>\n    <tr>\n      <th>63</th>\n      <td>hummer</td>\n    </tr>\n    <tr>\n      <th>64</th>\n      <td>smart</td>\n    </tr>\n    <tr>\n      <th>65</th>\n      <td>range</td>\n    </tr>\n  </tbody>\n</table>\n<p>66 rows × 1 columns</p>\n</div>"
     },
     "execution_count": 31,
     "metadata": {},
     "output_type": "execute_result"
    }
   ],
   "source": [
    "manufacturers = pd.read_csv('data/manufacturers.csv')\n",
    "manufacturers.make = manufacturers.make.str.lower()\n",
    "manufacturers"
   ],
   "metadata": {
    "collapsed": false
   }
  },
  {
   "cell_type": "code",
   "execution_count": 32,
   "outputs": [],
   "source": [
    "df.Title = df.Title.str.lower()\n",
    "df.Title = df.Title.str.replace('vw', 'volkswagen')"
   ],
   "metadata": {
    "collapsed": false
   }
  },
  {
   "cell_type": "code",
   "execution_count": 33,
   "outputs": [
    {
     "data": {
      "text/plain": "                                                   Title               Seller  \\\n1      fiat doblo cargo 1.9 jtd grijs kenteken bestel...            I Boumans   \n2      ford ranger open-laadbak 2.2tdci 160pk dubbele...           DUTCH Vans   \n3      aixam roadline -2008- incl. 3 mnd garantie + o...  Garage Kaal & Buunk   \n4             audi a3 s-line sportback facelift 2013 wit               Jeroen   \n5      mercedes-benz sprinter 314cdi 143pk l2h2 koelw...     Van der Wal Vans   \n...                                                  ...                  ...   \n13391           renault trafic l2 h1 2021 €344 per maand         Action Lease   \n13392           renault master l3 h1 2022 €635 per maand         Action Lease   \n13393              iveco daily l2 h2 2022 €648 per maand         Action Lease   \n13394       volkswagen crafter l2 h2 2017 €247 per maand         Action Lease   \n13395   volkswagen transporter l1 h1 2018 €289 per maand         Action Lease   \n\n       Price        Location   Year       Ran Engine Type     Transmission  \\\n1      18500          Gennep  2005   199313.0     Diesel   Handgeschakeld    \n2      22600       Barneveld  2017   107195.0     Diesel   Handgeschakeld    \n3       6950            Beek  2008    47108.0     Diesel         Automaat    \n4      11000            Lent  2013   201500.0         NaN              NaN   \n5      32900        Langerak  2018   148939.0     Diesel   Handgeschakeld    \n...      ...             ...    ...       ...         ...              ...   \n13391  24700  Heel Nederland  2021    67051.0     Diesel   Handgeschakeld    \n13392  41800  Heel Nederland  2022       60.0     Diesel   Handgeschakeld    \n13393  42600  Heel Nederland  2022       30.0     Diesel         Automaat    \n13394  17600  Heel Nederland  2017   198504.0     Diesel   Handgeschakeld    \n13395  20800  Heel Nederland  2018   189595.0     Diesel   Handgeschakeld    \n\n      Body         province_x  province_y        Make           Province  \n1      NaN            Limburg     Limburg        fiat            Limburg  \n2      NaN         Gelderland  Gelderland        ford         Gelderland  \n3      NaN            Limburg     Limburg       aixam            Limburg  \n4      NaN         Gelderland  Gelderland        audi         Gelderland  \n5      NaN            Drenthe     Drenthe    mercedes            Drenthe  \n...    ...                ...         ...         ...                ...  \n13391  NaN  In every province         NaN     renault  In every province  \n13392  NaN  In every province         NaN     renault  In every province  \n13393  NaN  In every province         NaN        None  In every province  \n13394  NaN  In every province         NaN  volkswagen  In every province  \n13395  NaN  In every province         NaN  volkswagen  In every province  \n\n[13006 rows x 13 columns]",
      "text/html": "<div>\n<style scoped>\n    .dataframe tbody tr th:only-of-type {\n        vertical-align: middle;\n    }\n\n    .dataframe tbody tr th {\n        vertical-align: top;\n    }\n\n    .dataframe thead th {\n        text-align: right;\n    }\n</style>\n<table border=\"1\" class=\"dataframe\">\n  <thead>\n    <tr style=\"text-align: right;\">\n      <th></th>\n      <th>Title</th>\n      <th>Seller</th>\n      <th>Price</th>\n      <th>Location</th>\n      <th>Year</th>\n      <th>Ran</th>\n      <th>Engine Type</th>\n      <th>Transmission</th>\n      <th>Body</th>\n      <th>province_x</th>\n      <th>province_y</th>\n      <th>Make</th>\n      <th>Province</th>\n    </tr>\n  </thead>\n  <tbody>\n    <tr>\n      <th>1</th>\n      <td>fiat doblo cargo 1.9 jtd grijs kenteken bestel...</td>\n      <td>I Boumans</td>\n      <td>18500</td>\n      <td>Gennep</td>\n      <td>2005</td>\n      <td>199313.0</td>\n      <td>Diesel</td>\n      <td>Handgeschakeld</td>\n      <td>NaN</td>\n      <td>Limburg</td>\n      <td>Limburg</td>\n      <td>fiat</td>\n      <td>Limburg</td>\n    </tr>\n    <tr>\n      <th>2</th>\n      <td>ford ranger open-laadbak 2.2tdci 160pk dubbele...</td>\n      <td>DUTCH Vans</td>\n      <td>22600</td>\n      <td>Barneveld</td>\n      <td>2017</td>\n      <td>107195.0</td>\n      <td>Diesel</td>\n      <td>Handgeschakeld</td>\n      <td>NaN</td>\n      <td>Gelderland</td>\n      <td>Gelderland</td>\n      <td>ford</td>\n      <td>Gelderland</td>\n    </tr>\n    <tr>\n      <th>3</th>\n      <td>aixam roadline -2008- incl. 3 mnd garantie + o...</td>\n      <td>Garage Kaal &amp; Buunk</td>\n      <td>6950</td>\n      <td>Beek</td>\n      <td>2008</td>\n      <td>47108.0</td>\n      <td>Diesel</td>\n      <td>Automaat</td>\n      <td>NaN</td>\n      <td>Limburg</td>\n      <td>Limburg</td>\n      <td>aixam</td>\n      <td>Limburg</td>\n    </tr>\n    <tr>\n      <th>4</th>\n      <td>audi a3 s-line sportback facelift 2013 wit</td>\n      <td>Jeroen</td>\n      <td>11000</td>\n      <td>Lent</td>\n      <td>2013</td>\n      <td>201500.0</td>\n      <td>NaN</td>\n      <td>NaN</td>\n      <td>NaN</td>\n      <td>Gelderland</td>\n      <td>Gelderland</td>\n      <td>audi</td>\n      <td>Gelderland</td>\n    </tr>\n    <tr>\n      <th>5</th>\n      <td>mercedes-benz sprinter 314cdi 143pk l2h2 koelw...</td>\n      <td>Van der Wal Vans</td>\n      <td>32900</td>\n      <td>Langerak</td>\n      <td>2018</td>\n      <td>148939.0</td>\n      <td>Diesel</td>\n      <td>Handgeschakeld</td>\n      <td>NaN</td>\n      <td>Drenthe</td>\n      <td>Drenthe</td>\n      <td>mercedes</td>\n      <td>Drenthe</td>\n    </tr>\n    <tr>\n      <th>...</th>\n      <td>...</td>\n      <td>...</td>\n      <td>...</td>\n      <td>...</td>\n      <td>...</td>\n      <td>...</td>\n      <td>...</td>\n      <td>...</td>\n      <td>...</td>\n      <td>...</td>\n      <td>...</td>\n      <td>...</td>\n      <td>...</td>\n    </tr>\n    <tr>\n      <th>13391</th>\n      <td>renault trafic l2 h1 2021 €344 per maand</td>\n      <td>Action Lease</td>\n      <td>24700</td>\n      <td>Heel Nederland</td>\n      <td>2021</td>\n      <td>67051.0</td>\n      <td>Diesel</td>\n      <td>Handgeschakeld</td>\n      <td>NaN</td>\n      <td>In every province</td>\n      <td>NaN</td>\n      <td>renault</td>\n      <td>In every province</td>\n    </tr>\n    <tr>\n      <th>13392</th>\n      <td>renault master l3 h1 2022 €635 per maand</td>\n      <td>Action Lease</td>\n      <td>41800</td>\n      <td>Heel Nederland</td>\n      <td>2022</td>\n      <td>60.0</td>\n      <td>Diesel</td>\n      <td>Handgeschakeld</td>\n      <td>NaN</td>\n      <td>In every province</td>\n      <td>NaN</td>\n      <td>renault</td>\n      <td>In every province</td>\n    </tr>\n    <tr>\n      <th>13393</th>\n      <td>iveco daily l2 h2 2022 €648 per maand</td>\n      <td>Action Lease</td>\n      <td>42600</td>\n      <td>Heel Nederland</td>\n      <td>2022</td>\n      <td>30.0</td>\n      <td>Diesel</td>\n      <td>Automaat</td>\n      <td>NaN</td>\n      <td>In every province</td>\n      <td>NaN</td>\n      <td>None</td>\n      <td>In every province</td>\n    </tr>\n    <tr>\n      <th>13394</th>\n      <td>volkswagen crafter l2 h2 2017 €247 per maand</td>\n      <td>Action Lease</td>\n      <td>17600</td>\n      <td>Heel Nederland</td>\n      <td>2017</td>\n      <td>198504.0</td>\n      <td>Diesel</td>\n      <td>Handgeschakeld</td>\n      <td>NaN</td>\n      <td>In every province</td>\n      <td>NaN</td>\n      <td>volkswagen</td>\n      <td>In every province</td>\n    </tr>\n    <tr>\n      <th>13395</th>\n      <td>volkswagen transporter l1 h1 2018 €289 per maand</td>\n      <td>Action Lease</td>\n      <td>20800</td>\n      <td>Heel Nederland</td>\n      <td>2018</td>\n      <td>189595.0</td>\n      <td>Diesel</td>\n      <td>Handgeschakeld</td>\n      <td>NaN</td>\n      <td>In every province</td>\n      <td>NaN</td>\n      <td>volkswagen</td>\n      <td>In every province</td>\n    </tr>\n  </tbody>\n</table>\n<p>13006 rows × 13 columns</p>\n</div>"
     },
     "execution_count": 33,
     "metadata": {},
     "output_type": "execute_result"
    }
   ],
   "source": [
    "def extract_make(title):\n",
    "    for make in manufacturers['make']:\n",
    "        if make in title:\n",
    "            return make\n",
    "    return None\n",
    "df['Make'] = df['Title'].apply(extract_make)\n",
    "df['Province'] = df.province\n",
    "df.drop('province',axis=1)"
   ],
   "metadata": {
    "collapsed": false
   }
  },
  {
   "cell_type": "code",
   "execution_count": 34,
   "outputs": [
    {
     "data": {
      "text/plain": "                                                   Title               Seller  \\\n1      fiat doblo cargo 1.9 jtd grijs kenteken bestel...            I Boumans   \n2      ford ranger open-laadbak 2.2tdci 160pk dubbele...           DUTCH Vans   \n3      aixam roadline -2008- incl. 3 mnd garantie + o...  Garage Kaal & Buunk   \n4             audi a3 s-line sportback facelift 2013 wit               Jeroen   \n5      mercedes-benz sprinter 314cdi 143pk l2h2 koelw...     Van der Wal Vans   \n...                                                  ...                  ...   \n13391           renault trafic l2 h1 2021 €344 per maand         Action Lease   \n13392           renault master l3 h1 2022 €635 per maand         Action Lease   \n13393              iveco daily l2 h2 2022 €648 per maand         Action Lease   \n13394       volkswagen crafter l2 h2 2017 €247 per maand         Action Lease   \n13395   volkswagen transporter l1 h1 2018 €289 per maand         Action Lease   \n\n       Price        Location   Year       Ran Engine Type     Transmission  \\\n1      18500          Gennep  2005   199313.0     Diesel   Handgeschakeld    \n2      22600       Barneveld  2017   107195.0     Diesel   Handgeschakeld    \n3       6950            Beek  2008    47108.0     Diesel         Automaat    \n4      11000            Lent  2013   201500.0         NaN              NaN   \n5      32900        Langerak  2018   148939.0     Diesel   Handgeschakeld    \n...      ...             ...    ...       ...         ...              ...   \n13391  24700  Heel Nederland  2021    67051.0     Diesel   Handgeschakeld    \n13392  41800  Heel Nederland  2022       60.0     Diesel   Handgeschakeld    \n13393  42600  Heel Nederland  2022       30.0     Diesel         Automaat    \n13394  17600  Heel Nederland  2017   198504.0     Diesel   Handgeschakeld    \n13395  20800  Heel Nederland  2018   189595.0     Diesel   Handgeschakeld    \n\n      Body         province_x  province_y           province        Make  \\\n1      NaN            Limburg     Limburg            Limburg        fiat   \n2      NaN         Gelderland  Gelderland         Gelderland        ford   \n3      NaN            Limburg     Limburg            Limburg       aixam   \n4      NaN         Gelderland  Gelderland         Gelderland        audi   \n5      NaN            Drenthe     Drenthe            Drenthe    mercedes   \n...    ...                ...         ...                ...         ...   \n13391  NaN  In every province         NaN  In every province     renault   \n13392  NaN  In every province         NaN  In every province     renault   \n13393  NaN  In every province         NaN  In every province        None   \n13394  NaN  In every province         NaN  In every province  volkswagen   \n13395  NaN  In every province         NaN  In every province  volkswagen   \n\n                Province  \n1                Limburg  \n2             Gelderland  \n3                Limburg  \n4             Gelderland  \n5                Drenthe  \n...                  ...  \n13391  In every province  \n13392  In every province  \n13393  In every province  \n13394  In every province  \n13395  In every province  \n\n[13006 rows x 14 columns]",
      "text/html": "<div>\n<style scoped>\n    .dataframe tbody tr th:only-of-type {\n        vertical-align: middle;\n    }\n\n    .dataframe tbody tr th {\n        vertical-align: top;\n    }\n\n    .dataframe thead th {\n        text-align: right;\n    }\n</style>\n<table border=\"1\" class=\"dataframe\">\n  <thead>\n    <tr style=\"text-align: right;\">\n      <th></th>\n      <th>Title</th>\n      <th>Seller</th>\n      <th>Price</th>\n      <th>Location</th>\n      <th>Year</th>\n      <th>Ran</th>\n      <th>Engine Type</th>\n      <th>Transmission</th>\n      <th>Body</th>\n      <th>province_x</th>\n      <th>province_y</th>\n      <th>province</th>\n      <th>Make</th>\n      <th>Province</th>\n    </tr>\n  </thead>\n  <tbody>\n    <tr>\n      <th>1</th>\n      <td>fiat doblo cargo 1.9 jtd grijs kenteken bestel...</td>\n      <td>I Boumans</td>\n      <td>18500</td>\n      <td>Gennep</td>\n      <td>2005</td>\n      <td>199313.0</td>\n      <td>Diesel</td>\n      <td>Handgeschakeld</td>\n      <td>NaN</td>\n      <td>Limburg</td>\n      <td>Limburg</td>\n      <td>Limburg</td>\n      <td>fiat</td>\n      <td>Limburg</td>\n    </tr>\n    <tr>\n      <th>2</th>\n      <td>ford ranger open-laadbak 2.2tdci 160pk dubbele...</td>\n      <td>DUTCH Vans</td>\n      <td>22600</td>\n      <td>Barneveld</td>\n      <td>2017</td>\n      <td>107195.0</td>\n      <td>Diesel</td>\n      <td>Handgeschakeld</td>\n      <td>NaN</td>\n      <td>Gelderland</td>\n      <td>Gelderland</td>\n      <td>Gelderland</td>\n      <td>ford</td>\n      <td>Gelderland</td>\n    </tr>\n    <tr>\n      <th>3</th>\n      <td>aixam roadline -2008- incl. 3 mnd garantie + o...</td>\n      <td>Garage Kaal &amp; Buunk</td>\n      <td>6950</td>\n      <td>Beek</td>\n      <td>2008</td>\n      <td>47108.0</td>\n      <td>Diesel</td>\n      <td>Automaat</td>\n      <td>NaN</td>\n      <td>Limburg</td>\n      <td>Limburg</td>\n      <td>Limburg</td>\n      <td>aixam</td>\n      <td>Limburg</td>\n    </tr>\n    <tr>\n      <th>4</th>\n      <td>audi a3 s-line sportback facelift 2013 wit</td>\n      <td>Jeroen</td>\n      <td>11000</td>\n      <td>Lent</td>\n      <td>2013</td>\n      <td>201500.0</td>\n      <td>NaN</td>\n      <td>NaN</td>\n      <td>NaN</td>\n      <td>Gelderland</td>\n      <td>Gelderland</td>\n      <td>Gelderland</td>\n      <td>audi</td>\n      <td>Gelderland</td>\n    </tr>\n    <tr>\n      <th>5</th>\n      <td>mercedes-benz sprinter 314cdi 143pk l2h2 koelw...</td>\n      <td>Van der Wal Vans</td>\n      <td>32900</td>\n      <td>Langerak</td>\n      <td>2018</td>\n      <td>148939.0</td>\n      <td>Diesel</td>\n      <td>Handgeschakeld</td>\n      <td>NaN</td>\n      <td>Drenthe</td>\n      <td>Drenthe</td>\n      <td>Drenthe</td>\n      <td>mercedes</td>\n      <td>Drenthe</td>\n    </tr>\n    <tr>\n      <th>...</th>\n      <td>...</td>\n      <td>...</td>\n      <td>...</td>\n      <td>...</td>\n      <td>...</td>\n      <td>...</td>\n      <td>...</td>\n      <td>...</td>\n      <td>...</td>\n      <td>...</td>\n      <td>...</td>\n      <td>...</td>\n      <td>...</td>\n      <td>...</td>\n    </tr>\n    <tr>\n      <th>13391</th>\n      <td>renault trafic l2 h1 2021 €344 per maand</td>\n      <td>Action Lease</td>\n      <td>24700</td>\n      <td>Heel Nederland</td>\n      <td>2021</td>\n      <td>67051.0</td>\n      <td>Diesel</td>\n      <td>Handgeschakeld</td>\n      <td>NaN</td>\n      <td>In every province</td>\n      <td>NaN</td>\n      <td>In every province</td>\n      <td>renault</td>\n      <td>In every province</td>\n    </tr>\n    <tr>\n      <th>13392</th>\n      <td>renault master l3 h1 2022 €635 per maand</td>\n      <td>Action Lease</td>\n      <td>41800</td>\n      <td>Heel Nederland</td>\n      <td>2022</td>\n      <td>60.0</td>\n      <td>Diesel</td>\n      <td>Handgeschakeld</td>\n      <td>NaN</td>\n      <td>In every province</td>\n      <td>NaN</td>\n      <td>In every province</td>\n      <td>renault</td>\n      <td>In every province</td>\n    </tr>\n    <tr>\n      <th>13393</th>\n      <td>iveco daily l2 h2 2022 €648 per maand</td>\n      <td>Action Lease</td>\n      <td>42600</td>\n      <td>Heel Nederland</td>\n      <td>2022</td>\n      <td>30.0</td>\n      <td>Diesel</td>\n      <td>Automaat</td>\n      <td>NaN</td>\n      <td>In every province</td>\n      <td>NaN</td>\n      <td>In every province</td>\n      <td>None</td>\n      <td>In every province</td>\n    </tr>\n    <tr>\n      <th>13394</th>\n      <td>volkswagen crafter l2 h2 2017 €247 per maand</td>\n      <td>Action Lease</td>\n      <td>17600</td>\n      <td>Heel Nederland</td>\n      <td>2017</td>\n      <td>198504.0</td>\n      <td>Diesel</td>\n      <td>Handgeschakeld</td>\n      <td>NaN</td>\n      <td>In every province</td>\n      <td>NaN</td>\n      <td>In every province</td>\n      <td>volkswagen</td>\n      <td>In every province</td>\n    </tr>\n    <tr>\n      <th>13395</th>\n      <td>volkswagen transporter l1 h1 2018 €289 per maand</td>\n      <td>Action Lease</td>\n      <td>20800</td>\n      <td>Heel Nederland</td>\n      <td>2018</td>\n      <td>189595.0</td>\n      <td>Diesel</td>\n      <td>Handgeschakeld</td>\n      <td>NaN</td>\n      <td>In every province</td>\n      <td>NaN</td>\n      <td>In every province</td>\n      <td>volkswagen</td>\n      <td>In every province</td>\n    </tr>\n  </tbody>\n</table>\n<p>13006 rows × 14 columns</p>\n</div>"
     },
     "execution_count": 34,
     "metadata": {},
     "output_type": "execute_result"
    }
   ],
   "source": [
    "df"
   ],
   "metadata": {
    "collapsed": false
   }
  },
  {
   "cell_type": "code",
   "execution_count": 35,
   "outputs": [],
   "source": [
    "# import json\n",
    "# import urllib\n",
    "# import requests\n",
    "#\n",
    "# url = 'https://parseapi.back4app.com/classes/Car_Model_List?limit=100000&keys=Model'\n",
    "# headers = {\n",
    "#     'X-Parse-Application-Id': 'hlhoNKjOvEhqzcVAJ1lxjicJLZNVv36GdbboZj3Z', # This is the fake app's application id\n",
    "#     'X-Parse-Master-Key': 'SNMJJF0CZZhTPhLDIqGhTlUNV9r60M2Z5spyWfXW' # This is the fake app's readonly master key\n",
    "# }\n",
    "# data = json.loads(requests.get(url, headers=headers).content.decode('utf-8')) # Here you have the data that you need\n",
    "# print(json.dumps(data, indent=2))"
   ],
   "metadata": {
    "collapsed": false
   }
  },
  {
   "cell_type": "code",
   "execution_count": 36,
   "outputs": [],
   "source": [
    "# with open('data/models.json', 'w') as outfile:\n",
    "#     json.dump(data, outfile)"
   ],
   "metadata": {
    "collapsed": false
   }
  },
  {
   "cell_type": "code",
   "execution_count": 40,
   "outputs": [],
   "source": [
    "models = pd.read_csv('data/models.csv')"
   ],
   "metadata": {
    "collapsed": false
   }
  },
  {
   "cell_type": "code",
   "execution_count": 42,
   "outputs": [],
   "source": [
    "models_list = models.results.to_list()\n",
    "models_list.append('mégane')\n",
    "models_list.append('scénic')\n",
    "models_list.append('huracán')"
   ],
   "metadata": {
    "collapsed": false
   }
  },
  {
   "cell_type": "code",
   "execution_count": 46,
   "outputs": [
    {
     "name": "stderr",
     "output_type": "stream",
     "text": [
      "C:\\Users\\01din\\AppData\\Local\\Temp\\ipykernel_4388\\3616775089.py:6: SettingWithCopyWarning: \n",
      "A value is trying to be set on a copy of a slice from a DataFrame.\n",
      "Try using .loc[row_indexer,col_indexer] = value instead\n",
      "\n",
      "See the caveats in the documentation: https://pandas.pydata.org/pandas-docs/stable/user_guide/indexing.html#returning-a-view-versus-a-copy\n",
      "  df['Model'] = df['Title'].apply(extract_model)\n"
     ]
    }
   ],
   "source": [
    "def extract_model(title):\n",
    "    for model in models_l:\n",
    "        if model in title.split():\n",
    "            return model\n",
    "    return None\n",
    "df['Model'] = df['Title'].apply(extract_model)"
   ],
   "metadata": {
    "collapsed": false
   }
  },
  {
   "cell_type": "code",
   "execution_count": 47,
   "outputs": [],
   "source": [
    "df = df[['Make', 'Model', 'Price', 'Year', 'Ran', 'Engine Type', 'Transmission', 'Location', 'Province', 'Seller', 'Title', 'Body']]"
   ],
   "metadata": {
    "collapsed": false
   }
  },
  {
   "cell_type": "code",
   "execution_count": 48,
   "outputs": [
    {
     "data": {
      "text/plain": "             Make     Model  Price   Year       Ran Engine Type  \\\n1            fiat     doblo  18500  2005   199313.0     Diesel    \n2            ford    ranger  22600  2017   107195.0     Diesel    \n3           aixam  roadline   6950  2008    47108.0     Diesel    \n4            audi        a3  11000  2013   201500.0         NaN   \n5        mercedes  sprinter  32900  2018   148939.0     Diesel    \n...           ...       ...    ...    ...       ...         ...   \n13391     renault        h1  24700  2021    67051.0     Diesel    \n13392     renault        h1  41800  2022       60.0     Diesel    \n13393        None        h2  42600  2022       30.0     Diesel    \n13394  volkswagen        h2  17600  2017   198504.0     Diesel    \n13395  volkswagen        h1  20800  2018   189595.0     Diesel    \n\n          Transmission        Location           Province  \\\n1      Handgeschakeld           Gennep            Limburg   \n2      Handgeschakeld        Barneveld         Gelderland   \n3            Automaat             Beek            Limburg   \n4                  NaN            Lent         Gelderland   \n5      Handgeschakeld         Langerak            Drenthe   \n...                ...             ...                ...   \n13391  Handgeschakeld   Heel Nederland  In every province   \n13392  Handgeschakeld   Heel Nederland  In every province   \n13393        Automaat   Heel Nederland  In every province   \n13394  Handgeschakeld   Heel Nederland  In every province   \n13395  Handgeschakeld   Heel Nederland  In every province   \n\n                    Seller                                              Title  \\\n1                I Boumans  fiat doblo cargo 1.9 jtd grijs kenteken bestel...   \n2               DUTCH Vans  ford ranger open-laadbak 2.2tdci 160pk dubbele...   \n3      Garage Kaal & Buunk  aixam roadline -2008- incl. 3 mnd garantie + o...   \n4                   Jeroen         audi a3 s-line sportback facelift 2013 wit   \n5         Van der Wal Vans  mercedes-benz sprinter 314cdi 143pk l2h2 koelw...   \n...                    ...                                                ...   \n13391         Action Lease           renault trafic l2 h1 2021 €344 per maand   \n13392         Action Lease           renault master l3 h1 2022 €635 per maand   \n13393         Action Lease              iveco daily l2 h2 2022 €648 per maand   \n13394         Action Lease       volkswagen crafter l2 h2 2017 €247 per maand   \n13395         Action Lease   volkswagen transporter l1 h1 2018 €289 per maand   \n\n      Body  \n1      NaN  \n2      NaN  \n3      NaN  \n4      NaN  \n5      NaN  \n...    ...  \n13391  NaN  \n13392  NaN  \n13393  NaN  \n13394  NaN  \n13395  NaN  \n\n[13006 rows x 12 columns]",
      "text/html": "<div>\n<style scoped>\n    .dataframe tbody tr th:only-of-type {\n        vertical-align: middle;\n    }\n\n    .dataframe tbody tr th {\n        vertical-align: top;\n    }\n\n    .dataframe thead th {\n        text-align: right;\n    }\n</style>\n<table border=\"1\" class=\"dataframe\">\n  <thead>\n    <tr style=\"text-align: right;\">\n      <th></th>\n      <th>Make</th>\n      <th>Model</th>\n      <th>Price</th>\n      <th>Year</th>\n      <th>Ran</th>\n      <th>Engine Type</th>\n      <th>Transmission</th>\n      <th>Location</th>\n      <th>Province</th>\n      <th>Seller</th>\n      <th>Title</th>\n      <th>Body</th>\n    </tr>\n  </thead>\n  <tbody>\n    <tr>\n      <th>1</th>\n      <td>fiat</td>\n      <td>doblo</td>\n      <td>18500</td>\n      <td>2005</td>\n      <td>199313.0</td>\n      <td>Diesel</td>\n      <td>Handgeschakeld</td>\n      <td>Gennep</td>\n      <td>Limburg</td>\n      <td>I Boumans</td>\n      <td>fiat doblo cargo 1.9 jtd grijs kenteken bestel...</td>\n      <td>NaN</td>\n    </tr>\n    <tr>\n      <th>2</th>\n      <td>ford</td>\n      <td>ranger</td>\n      <td>22600</td>\n      <td>2017</td>\n      <td>107195.0</td>\n      <td>Diesel</td>\n      <td>Handgeschakeld</td>\n      <td>Barneveld</td>\n      <td>Gelderland</td>\n      <td>DUTCH Vans</td>\n      <td>ford ranger open-laadbak 2.2tdci 160pk dubbele...</td>\n      <td>NaN</td>\n    </tr>\n    <tr>\n      <th>3</th>\n      <td>aixam</td>\n      <td>roadline</td>\n      <td>6950</td>\n      <td>2008</td>\n      <td>47108.0</td>\n      <td>Diesel</td>\n      <td>Automaat</td>\n      <td>Beek</td>\n      <td>Limburg</td>\n      <td>Garage Kaal &amp; Buunk</td>\n      <td>aixam roadline -2008- incl. 3 mnd garantie + o...</td>\n      <td>NaN</td>\n    </tr>\n    <tr>\n      <th>4</th>\n      <td>audi</td>\n      <td>a3</td>\n      <td>11000</td>\n      <td>2013</td>\n      <td>201500.0</td>\n      <td>NaN</td>\n      <td>NaN</td>\n      <td>Lent</td>\n      <td>Gelderland</td>\n      <td>Jeroen</td>\n      <td>audi a3 s-line sportback facelift 2013 wit</td>\n      <td>NaN</td>\n    </tr>\n    <tr>\n      <th>5</th>\n      <td>mercedes</td>\n      <td>sprinter</td>\n      <td>32900</td>\n      <td>2018</td>\n      <td>148939.0</td>\n      <td>Diesel</td>\n      <td>Handgeschakeld</td>\n      <td>Langerak</td>\n      <td>Drenthe</td>\n      <td>Van der Wal Vans</td>\n      <td>mercedes-benz sprinter 314cdi 143pk l2h2 koelw...</td>\n      <td>NaN</td>\n    </tr>\n    <tr>\n      <th>...</th>\n      <td>...</td>\n      <td>...</td>\n      <td>...</td>\n      <td>...</td>\n      <td>...</td>\n      <td>...</td>\n      <td>...</td>\n      <td>...</td>\n      <td>...</td>\n      <td>...</td>\n      <td>...</td>\n      <td>...</td>\n    </tr>\n    <tr>\n      <th>13391</th>\n      <td>renault</td>\n      <td>h1</td>\n      <td>24700</td>\n      <td>2021</td>\n      <td>67051.0</td>\n      <td>Diesel</td>\n      <td>Handgeschakeld</td>\n      <td>Heel Nederland</td>\n      <td>In every province</td>\n      <td>Action Lease</td>\n      <td>renault trafic l2 h1 2021 €344 per maand</td>\n      <td>NaN</td>\n    </tr>\n    <tr>\n      <th>13392</th>\n      <td>renault</td>\n      <td>h1</td>\n      <td>41800</td>\n      <td>2022</td>\n      <td>60.0</td>\n      <td>Diesel</td>\n      <td>Handgeschakeld</td>\n      <td>Heel Nederland</td>\n      <td>In every province</td>\n      <td>Action Lease</td>\n      <td>renault master l3 h1 2022 €635 per maand</td>\n      <td>NaN</td>\n    </tr>\n    <tr>\n      <th>13393</th>\n      <td>None</td>\n      <td>h2</td>\n      <td>42600</td>\n      <td>2022</td>\n      <td>30.0</td>\n      <td>Diesel</td>\n      <td>Automaat</td>\n      <td>Heel Nederland</td>\n      <td>In every province</td>\n      <td>Action Lease</td>\n      <td>iveco daily l2 h2 2022 €648 per maand</td>\n      <td>NaN</td>\n    </tr>\n    <tr>\n      <th>13394</th>\n      <td>volkswagen</td>\n      <td>h2</td>\n      <td>17600</td>\n      <td>2017</td>\n      <td>198504.0</td>\n      <td>Diesel</td>\n      <td>Handgeschakeld</td>\n      <td>Heel Nederland</td>\n      <td>In every province</td>\n      <td>Action Lease</td>\n      <td>volkswagen crafter l2 h2 2017 €247 per maand</td>\n      <td>NaN</td>\n    </tr>\n    <tr>\n      <th>13395</th>\n      <td>volkswagen</td>\n      <td>h1</td>\n      <td>20800</td>\n      <td>2018</td>\n      <td>189595.0</td>\n      <td>Diesel</td>\n      <td>Handgeschakeld</td>\n      <td>Heel Nederland</td>\n      <td>In every province</td>\n      <td>Action Lease</td>\n      <td>volkswagen transporter l1 h1 2018 €289 per maand</td>\n      <td>NaN</td>\n    </tr>\n  </tbody>\n</table>\n<p>13006 rows × 12 columns</p>\n</div>"
     },
     "execution_count": 48,
     "metadata": {},
     "output_type": "execute_result"
    }
   ],
   "source": [
    "df"
   ],
   "metadata": {
    "collapsed": false
   }
  },
  {
   "cell_type": "markdown",
   "source": [
    "There are a lot of invalid values. We can see the body column is very sparse. We will remove it completely."
   ],
   "metadata": {
    "collapsed": false
   }
  },
  {
   "cell_type": "code",
   "execution_count": 49,
   "outputs": [
    {
     "data": {
      "text/plain": "9088"
     },
     "execution_count": 49,
     "metadata": {},
     "output_type": "execute_result"
    }
   ],
   "source": [
    "df.Body.isna().sum()"
   ],
   "metadata": {
    "collapsed": false
   }
  },
  {
   "cell_type": "code",
   "execution_count": 50,
   "outputs": [
    {
     "data": {
      "text/plain": "3956"
     },
     "execution_count": 50,
     "metadata": {},
     "output_type": "execute_result"
    }
   ],
   "source": [
    "df['Engine Type'].isna().sum()"
   ],
   "metadata": {
    "collapsed": false
   }
  },
  {
   "cell_type": "code",
   "execution_count": 51,
   "outputs": [
    {
     "data": {
      "text/plain": "4016"
     },
     "execution_count": 51,
     "metadata": {},
     "output_type": "execute_result"
    }
   ],
   "source": [
    "df['Transmission'].isna().sum()"
   ],
   "metadata": {
    "collapsed": false
   }
  },
  {
   "cell_type": "markdown",
   "source": [
    "Engine type and transmission are questionable too. We expect the most important columns to be make, model. ran, and year. Transmission and engine type might be less important, and sacrificing data for the sake of not having missing values in those columns might not be the move.\n"
   ],
   "metadata": {
    "collapsed": false
   }
  },
  {
   "cell_type": "code",
   "execution_count": 52,
   "outputs": [],
   "source": [
    "df.drop(['Body'], axis=1, inplace=True)"
   ],
   "metadata": {
    "collapsed": false
   }
  },
  {
   "cell_type": "code",
   "execution_count": 53,
   "outputs": [
    {
     "data": {
      "text/plain": "             Make     Model  Price   Year       Ran Engine Type  \\\n1            fiat     doblo  18500  2005   199313.0     Diesel    \n2            ford    ranger  22600  2017   107195.0     Diesel    \n3           aixam  roadline   6950  2008    47108.0     Diesel    \n4            audi        a3  11000  2013   201500.0         NaN   \n5        mercedes  sprinter  32900  2018   148939.0     Diesel    \n...           ...       ...    ...    ...       ...         ...   \n13391     renault        h1  24700  2021    67051.0     Diesel    \n13392     renault        h1  41800  2022       60.0     Diesel    \n13393        None        h2  42600  2022       30.0     Diesel    \n13394  volkswagen        h2  17600  2017   198504.0     Diesel    \n13395  volkswagen        h1  20800  2018   189595.0     Diesel    \n\n          Transmission        Location           Province  \\\n1      Handgeschakeld           Gennep            Limburg   \n2      Handgeschakeld        Barneveld         Gelderland   \n3            Automaat             Beek            Limburg   \n4                  NaN            Lent         Gelderland   \n5      Handgeschakeld         Langerak            Drenthe   \n...                ...             ...                ...   \n13391  Handgeschakeld   Heel Nederland  In every province   \n13392  Handgeschakeld   Heel Nederland  In every province   \n13393        Automaat   Heel Nederland  In every province   \n13394  Handgeschakeld   Heel Nederland  In every province   \n13395  Handgeschakeld   Heel Nederland  In every province   \n\n                    Seller                                              Title  \n1                I Boumans  fiat doblo cargo 1.9 jtd grijs kenteken bestel...  \n2               DUTCH Vans  ford ranger open-laadbak 2.2tdci 160pk dubbele...  \n3      Garage Kaal & Buunk  aixam roadline -2008- incl. 3 mnd garantie + o...  \n4                   Jeroen         audi a3 s-line sportback facelift 2013 wit  \n5         Van der Wal Vans  mercedes-benz sprinter 314cdi 143pk l2h2 koelw...  \n...                    ...                                                ...  \n13391         Action Lease           renault trafic l2 h1 2021 €344 per maand  \n13392         Action Lease           renault master l3 h1 2022 €635 per maand  \n13393         Action Lease              iveco daily l2 h2 2022 €648 per maand  \n13394         Action Lease       volkswagen crafter l2 h2 2017 €247 per maand  \n13395         Action Lease   volkswagen transporter l1 h1 2018 €289 per maand  \n\n[13006 rows x 11 columns]",
      "text/html": "<div>\n<style scoped>\n    .dataframe tbody tr th:only-of-type {\n        vertical-align: middle;\n    }\n\n    .dataframe tbody tr th {\n        vertical-align: top;\n    }\n\n    .dataframe thead th {\n        text-align: right;\n    }\n</style>\n<table border=\"1\" class=\"dataframe\">\n  <thead>\n    <tr style=\"text-align: right;\">\n      <th></th>\n      <th>Make</th>\n      <th>Model</th>\n      <th>Price</th>\n      <th>Year</th>\n      <th>Ran</th>\n      <th>Engine Type</th>\n      <th>Transmission</th>\n      <th>Location</th>\n      <th>Province</th>\n      <th>Seller</th>\n      <th>Title</th>\n    </tr>\n  </thead>\n  <tbody>\n    <tr>\n      <th>1</th>\n      <td>fiat</td>\n      <td>doblo</td>\n      <td>18500</td>\n      <td>2005</td>\n      <td>199313.0</td>\n      <td>Diesel</td>\n      <td>Handgeschakeld</td>\n      <td>Gennep</td>\n      <td>Limburg</td>\n      <td>I Boumans</td>\n      <td>fiat doblo cargo 1.9 jtd grijs kenteken bestel...</td>\n    </tr>\n    <tr>\n      <th>2</th>\n      <td>ford</td>\n      <td>ranger</td>\n      <td>22600</td>\n      <td>2017</td>\n      <td>107195.0</td>\n      <td>Diesel</td>\n      <td>Handgeschakeld</td>\n      <td>Barneveld</td>\n      <td>Gelderland</td>\n      <td>DUTCH Vans</td>\n      <td>ford ranger open-laadbak 2.2tdci 160pk dubbele...</td>\n    </tr>\n    <tr>\n      <th>3</th>\n      <td>aixam</td>\n      <td>roadline</td>\n      <td>6950</td>\n      <td>2008</td>\n      <td>47108.0</td>\n      <td>Diesel</td>\n      <td>Automaat</td>\n      <td>Beek</td>\n      <td>Limburg</td>\n      <td>Garage Kaal &amp; Buunk</td>\n      <td>aixam roadline -2008- incl. 3 mnd garantie + o...</td>\n    </tr>\n    <tr>\n      <th>4</th>\n      <td>audi</td>\n      <td>a3</td>\n      <td>11000</td>\n      <td>2013</td>\n      <td>201500.0</td>\n      <td>NaN</td>\n      <td>NaN</td>\n      <td>Lent</td>\n      <td>Gelderland</td>\n      <td>Jeroen</td>\n      <td>audi a3 s-line sportback facelift 2013 wit</td>\n    </tr>\n    <tr>\n      <th>5</th>\n      <td>mercedes</td>\n      <td>sprinter</td>\n      <td>32900</td>\n      <td>2018</td>\n      <td>148939.0</td>\n      <td>Diesel</td>\n      <td>Handgeschakeld</td>\n      <td>Langerak</td>\n      <td>Drenthe</td>\n      <td>Van der Wal Vans</td>\n      <td>mercedes-benz sprinter 314cdi 143pk l2h2 koelw...</td>\n    </tr>\n    <tr>\n      <th>...</th>\n      <td>...</td>\n      <td>...</td>\n      <td>...</td>\n      <td>...</td>\n      <td>...</td>\n      <td>...</td>\n      <td>...</td>\n      <td>...</td>\n      <td>...</td>\n      <td>...</td>\n      <td>...</td>\n    </tr>\n    <tr>\n      <th>13391</th>\n      <td>renault</td>\n      <td>h1</td>\n      <td>24700</td>\n      <td>2021</td>\n      <td>67051.0</td>\n      <td>Diesel</td>\n      <td>Handgeschakeld</td>\n      <td>Heel Nederland</td>\n      <td>In every province</td>\n      <td>Action Lease</td>\n      <td>renault trafic l2 h1 2021 €344 per maand</td>\n    </tr>\n    <tr>\n      <th>13392</th>\n      <td>renault</td>\n      <td>h1</td>\n      <td>41800</td>\n      <td>2022</td>\n      <td>60.0</td>\n      <td>Diesel</td>\n      <td>Handgeschakeld</td>\n      <td>Heel Nederland</td>\n      <td>In every province</td>\n      <td>Action Lease</td>\n      <td>renault master l3 h1 2022 €635 per maand</td>\n    </tr>\n    <tr>\n      <th>13393</th>\n      <td>None</td>\n      <td>h2</td>\n      <td>42600</td>\n      <td>2022</td>\n      <td>30.0</td>\n      <td>Diesel</td>\n      <td>Automaat</td>\n      <td>Heel Nederland</td>\n      <td>In every province</td>\n      <td>Action Lease</td>\n      <td>iveco daily l2 h2 2022 €648 per maand</td>\n    </tr>\n    <tr>\n      <th>13394</th>\n      <td>volkswagen</td>\n      <td>h2</td>\n      <td>17600</td>\n      <td>2017</td>\n      <td>198504.0</td>\n      <td>Diesel</td>\n      <td>Handgeschakeld</td>\n      <td>Heel Nederland</td>\n      <td>In every province</td>\n      <td>Action Lease</td>\n      <td>volkswagen crafter l2 h2 2017 €247 per maand</td>\n    </tr>\n    <tr>\n      <th>13395</th>\n      <td>volkswagen</td>\n      <td>h1</td>\n      <td>20800</td>\n      <td>2018</td>\n      <td>189595.0</td>\n      <td>Diesel</td>\n      <td>Handgeschakeld</td>\n      <td>Heel Nederland</td>\n      <td>In every province</td>\n      <td>Action Lease</td>\n      <td>volkswagen transporter l1 h1 2018 €289 per maand</td>\n    </tr>\n  </tbody>\n</table>\n<p>13006 rows × 11 columns</p>\n</div>"
     },
     "execution_count": 53,
     "metadata": {},
     "output_type": "execute_result"
    }
   ],
   "source": [
    "df"
   ],
   "metadata": {
    "collapsed": false
   }
  },
  {
   "cell_type": "markdown",
   "source": [
    "Let's continue"
   ],
   "metadata": {
    "collapsed": false
   }
  },
  {
   "cell_type": "code",
   "execution_count": 54,
   "outputs": [],
   "source": [
    "df_NoNaN = df.dropna(axis = 0, how = 'any')"
   ],
   "metadata": {
    "collapsed": false
   }
  },
  {
   "cell_type": "code",
   "execution_count": 55,
   "outputs": [
    {
     "data": {
      "text/plain": "             Make     Model  Price   Year       Ran Engine Type  \\\n1            fiat     doblo  18500  2005   199313.0     Diesel    \n2            ford    ranger  22600  2017   107195.0     Diesel    \n3           aixam  roadline   6950  2008    47108.0     Diesel    \n5        mercedes  sprinter  32900  2018   148939.0     Diesel    \n6            opel     corsa  18500  2021    26200.0    Benzine    \n...           ...       ...    ...    ...       ...         ...   \n13390  volkswagen        h1  21800  2018   148087.0     Diesel    \n13391     renault        h1  24700  2021    67051.0     Diesel    \n13392     renault        h1  41800  2022       60.0     Diesel    \n13394  volkswagen        h2  17600  2017   198504.0     Diesel    \n13395  volkswagen        h1  20800  2018   189595.0     Diesel    \n\n          Transmission        Location           Province  \\\n1      Handgeschakeld           Gennep            Limburg   \n2      Handgeschakeld        Barneveld         Gelderland   \n3            Automaat             Beek            Limburg   \n5      Handgeschakeld         Langerak            Drenthe   \n6            Automaat        Amsterdam      Noord-Holland   \n...                ...             ...                ...   \n13390        Automaat   Heel Nederland  In every province   \n13391  Handgeschakeld   Heel Nederland  In every province   \n13392  Handgeschakeld   Heel Nederland  In every province   \n13394  Handgeschakeld   Heel Nederland  In every province   \n13395  Handgeschakeld   Heel Nederland  In every province   \n\n                    Seller                                              Title  \n1                I Boumans  fiat doblo cargo 1.9 jtd grijs kenteken bestel...  \n2               DUTCH Vans  ford ranger open-laadbak 2.2tdci 160pk dubbele...  \n3      Garage Kaal & Buunk  aixam roadline -2008- incl. 3 mnd garantie + o...  \n5         Van der Wal Vans  mercedes-benz sprinter 314cdi 143pk l2h2 koelw...  \n6                     Adam  opel corsa 1.2 turbo start/stop 100pk aut 2021...  \n...                    ...                                                ...  \n13390         Action Lease   volkswagen transporter l1 h1 2018 €306 per maand  \n13391         Action Lease           renault trafic l2 h1 2021 €344 per maand  \n13392         Action Lease           renault master l3 h1 2022 €635 per maand  \n13394         Action Lease       volkswagen crafter l2 h2 2017 €247 per maand  \n13395         Action Lease   volkswagen transporter l1 h1 2018 €289 per maand  \n\n[7498 rows x 11 columns]",
      "text/html": "<div>\n<style scoped>\n    .dataframe tbody tr th:only-of-type {\n        vertical-align: middle;\n    }\n\n    .dataframe tbody tr th {\n        vertical-align: top;\n    }\n\n    .dataframe thead th {\n        text-align: right;\n    }\n</style>\n<table border=\"1\" class=\"dataframe\">\n  <thead>\n    <tr style=\"text-align: right;\">\n      <th></th>\n      <th>Make</th>\n      <th>Model</th>\n      <th>Price</th>\n      <th>Year</th>\n      <th>Ran</th>\n      <th>Engine Type</th>\n      <th>Transmission</th>\n      <th>Location</th>\n      <th>Province</th>\n      <th>Seller</th>\n      <th>Title</th>\n    </tr>\n  </thead>\n  <tbody>\n    <tr>\n      <th>1</th>\n      <td>fiat</td>\n      <td>doblo</td>\n      <td>18500</td>\n      <td>2005</td>\n      <td>199313.0</td>\n      <td>Diesel</td>\n      <td>Handgeschakeld</td>\n      <td>Gennep</td>\n      <td>Limburg</td>\n      <td>I Boumans</td>\n      <td>fiat doblo cargo 1.9 jtd grijs kenteken bestel...</td>\n    </tr>\n    <tr>\n      <th>2</th>\n      <td>ford</td>\n      <td>ranger</td>\n      <td>22600</td>\n      <td>2017</td>\n      <td>107195.0</td>\n      <td>Diesel</td>\n      <td>Handgeschakeld</td>\n      <td>Barneveld</td>\n      <td>Gelderland</td>\n      <td>DUTCH Vans</td>\n      <td>ford ranger open-laadbak 2.2tdci 160pk dubbele...</td>\n    </tr>\n    <tr>\n      <th>3</th>\n      <td>aixam</td>\n      <td>roadline</td>\n      <td>6950</td>\n      <td>2008</td>\n      <td>47108.0</td>\n      <td>Diesel</td>\n      <td>Automaat</td>\n      <td>Beek</td>\n      <td>Limburg</td>\n      <td>Garage Kaal &amp; Buunk</td>\n      <td>aixam roadline -2008- incl. 3 mnd garantie + o...</td>\n    </tr>\n    <tr>\n      <th>5</th>\n      <td>mercedes</td>\n      <td>sprinter</td>\n      <td>32900</td>\n      <td>2018</td>\n      <td>148939.0</td>\n      <td>Diesel</td>\n      <td>Handgeschakeld</td>\n      <td>Langerak</td>\n      <td>Drenthe</td>\n      <td>Van der Wal Vans</td>\n      <td>mercedes-benz sprinter 314cdi 143pk l2h2 koelw...</td>\n    </tr>\n    <tr>\n      <th>6</th>\n      <td>opel</td>\n      <td>corsa</td>\n      <td>18500</td>\n      <td>2021</td>\n      <td>26200.0</td>\n      <td>Benzine</td>\n      <td>Automaat</td>\n      <td>Amsterdam</td>\n      <td>Noord-Holland</td>\n      <td>Adam</td>\n      <td>opel corsa 1.2 turbo start/stop 100pk aut 2021...</td>\n    </tr>\n    <tr>\n      <th>...</th>\n      <td>...</td>\n      <td>...</td>\n      <td>...</td>\n      <td>...</td>\n      <td>...</td>\n      <td>...</td>\n      <td>...</td>\n      <td>...</td>\n      <td>...</td>\n      <td>...</td>\n      <td>...</td>\n    </tr>\n    <tr>\n      <th>13390</th>\n      <td>volkswagen</td>\n      <td>h1</td>\n      <td>21800</td>\n      <td>2018</td>\n      <td>148087.0</td>\n      <td>Diesel</td>\n      <td>Automaat</td>\n      <td>Heel Nederland</td>\n      <td>In every province</td>\n      <td>Action Lease</td>\n      <td>volkswagen transporter l1 h1 2018 €306 per maand</td>\n    </tr>\n    <tr>\n      <th>13391</th>\n      <td>renault</td>\n      <td>h1</td>\n      <td>24700</td>\n      <td>2021</td>\n      <td>67051.0</td>\n      <td>Diesel</td>\n      <td>Handgeschakeld</td>\n      <td>Heel Nederland</td>\n      <td>In every province</td>\n      <td>Action Lease</td>\n      <td>renault trafic l2 h1 2021 €344 per maand</td>\n    </tr>\n    <tr>\n      <th>13392</th>\n      <td>renault</td>\n      <td>h1</td>\n      <td>41800</td>\n      <td>2022</td>\n      <td>60.0</td>\n      <td>Diesel</td>\n      <td>Handgeschakeld</td>\n      <td>Heel Nederland</td>\n      <td>In every province</td>\n      <td>Action Lease</td>\n      <td>renault master l3 h1 2022 €635 per maand</td>\n    </tr>\n    <tr>\n      <th>13394</th>\n      <td>volkswagen</td>\n      <td>h2</td>\n      <td>17600</td>\n      <td>2017</td>\n      <td>198504.0</td>\n      <td>Diesel</td>\n      <td>Handgeschakeld</td>\n      <td>Heel Nederland</td>\n      <td>In every province</td>\n      <td>Action Lease</td>\n      <td>volkswagen crafter l2 h2 2017 €247 per maand</td>\n    </tr>\n    <tr>\n      <th>13395</th>\n      <td>volkswagen</td>\n      <td>h1</td>\n      <td>20800</td>\n      <td>2018</td>\n      <td>189595.0</td>\n      <td>Diesel</td>\n      <td>Handgeschakeld</td>\n      <td>Heel Nederland</td>\n      <td>In every province</td>\n      <td>Action Lease</td>\n      <td>volkswagen transporter l1 h1 2018 €289 per maand</td>\n    </tr>\n  </tbody>\n</table>\n<p>7498 rows × 11 columns</p>\n</div>"
     },
     "execution_count": 55,
     "metadata": {},
     "output_type": "execute_result"
    }
   ],
   "source": [
    "df_NoNaN"
   ],
   "metadata": {
    "collapsed": false
   }
  },
  {
   "cell_type": "markdown",
   "source": [
    "If we simply remove all rows with a nan in any column, we are left with nearly 3000 rows. Keep in mind that there are still lease options in this set."
   ],
   "metadata": {
    "collapsed": false
   }
  },
  {
   "cell_type": "code",
   "execution_count": 56,
   "outputs": [],
   "source": [
    "df_no_trans_ET = df.drop(['Engine Type', 'Transmission'], axis=1)"
   ],
   "metadata": {
    "collapsed": false
   }
  },
  {
   "cell_type": "code",
   "execution_count": 57,
   "outputs": [],
   "source": [
    "df_no_trans_ET = df_no_trans_ET.dropna(axis = 0, how = 'any')"
   ],
   "metadata": {
    "collapsed": false
   }
  },
  {
   "cell_type": "code",
   "execution_count": 58,
   "outputs": [
    {
     "data": {
      "text/plain": "             Make     Model  Price   Year       Ran        Location  \\\n1            fiat     doblo  18500  2005   199313.0          Gennep   \n2            ford    ranger  22600  2017   107195.0       Barneveld   \n3           aixam  roadline   6950  2008    47108.0            Beek   \n4            audi        a3  11000  2013   201500.0            Lent   \n5        mercedes  sprinter  32900  2018   148939.0        Langerak   \n...           ...       ...    ...    ...       ...             ...   \n13390  volkswagen        h1  21800  2018   148087.0  Heel Nederland   \n13391     renault        h1  24700  2021    67051.0  Heel Nederland   \n13392     renault        h1  41800  2022       60.0  Heel Nederland   \n13394  volkswagen        h2  17600  2017   198504.0  Heel Nederland   \n13395  volkswagen        h1  20800  2018   189595.0  Heel Nederland   \n\n                Province               Seller  \\\n1                Limburg            I Boumans   \n2             Gelderland           DUTCH Vans   \n3                Limburg  Garage Kaal & Buunk   \n4             Gelderland               Jeroen   \n5                Drenthe     Van der Wal Vans   \n...                  ...                  ...   \n13390  In every province         Action Lease   \n13391  In every province         Action Lease   \n13392  In every province         Action Lease   \n13394  In every province         Action Lease   \n13395  In every province         Action Lease   \n\n                                                   Title  \n1      fiat doblo cargo 1.9 jtd grijs kenteken bestel...  \n2      ford ranger open-laadbak 2.2tdci 160pk dubbele...  \n3      aixam roadline -2008- incl. 3 mnd garantie + o...  \n4             audi a3 s-line sportback facelift 2013 wit  \n5      mercedes-benz sprinter 314cdi 143pk l2h2 koelw...  \n...                                                  ...  \n13390   volkswagen transporter l1 h1 2018 €306 per maand  \n13391           renault trafic l2 h1 2021 €344 per maand  \n13392           renault master l3 h1 2022 €635 per maand  \n13394       volkswagen crafter l2 h2 2017 €247 per maand  \n13395   volkswagen transporter l1 h1 2018 €289 per maand  \n\n[10687 rows x 9 columns]",
      "text/html": "<div>\n<style scoped>\n    .dataframe tbody tr th:only-of-type {\n        vertical-align: middle;\n    }\n\n    .dataframe tbody tr th {\n        vertical-align: top;\n    }\n\n    .dataframe thead th {\n        text-align: right;\n    }\n</style>\n<table border=\"1\" class=\"dataframe\">\n  <thead>\n    <tr style=\"text-align: right;\">\n      <th></th>\n      <th>Make</th>\n      <th>Model</th>\n      <th>Price</th>\n      <th>Year</th>\n      <th>Ran</th>\n      <th>Location</th>\n      <th>Province</th>\n      <th>Seller</th>\n      <th>Title</th>\n    </tr>\n  </thead>\n  <tbody>\n    <tr>\n      <th>1</th>\n      <td>fiat</td>\n      <td>doblo</td>\n      <td>18500</td>\n      <td>2005</td>\n      <td>199313.0</td>\n      <td>Gennep</td>\n      <td>Limburg</td>\n      <td>I Boumans</td>\n      <td>fiat doblo cargo 1.9 jtd grijs kenteken bestel...</td>\n    </tr>\n    <tr>\n      <th>2</th>\n      <td>ford</td>\n      <td>ranger</td>\n      <td>22600</td>\n      <td>2017</td>\n      <td>107195.0</td>\n      <td>Barneveld</td>\n      <td>Gelderland</td>\n      <td>DUTCH Vans</td>\n      <td>ford ranger open-laadbak 2.2tdci 160pk dubbele...</td>\n    </tr>\n    <tr>\n      <th>3</th>\n      <td>aixam</td>\n      <td>roadline</td>\n      <td>6950</td>\n      <td>2008</td>\n      <td>47108.0</td>\n      <td>Beek</td>\n      <td>Limburg</td>\n      <td>Garage Kaal &amp; Buunk</td>\n      <td>aixam roadline -2008- incl. 3 mnd garantie + o...</td>\n    </tr>\n    <tr>\n      <th>4</th>\n      <td>audi</td>\n      <td>a3</td>\n      <td>11000</td>\n      <td>2013</td>\n      <td>201500.0</td>\n      <td>Lent</td>\n      <td>Gelderland</td>\n      <td>Jeroen</td>\n      <td>audi a3 s-line sportback facelift 2013 wit</td>\n    </tr>\n    <tr>\n      <th>5</th>\n      <td>mercedes</td>\n      <td>sprinter</td>\n      <td>32900</td>\n      <td>2018</td>\n      <td>148939.0</td>\n      <td>Langerak</td>\n      <td>Drenthe</td>\n      <td>Van der Wal Vans</td>\n      <td>mercedes-benz sprinter 314cdi 143pk l2h2 koelw...</td>\n    </tr>\n    <tr>\n      <th>...</th>\n      <td>...</td>\n      <td>...</td>\n      <td>...</td>\n      <td>...</td>\n      <td>...</td>\n      <td>...</td>\n      <td>...</td>\n      <td>...</td>\n      <td>...</td>\n    </tr>\n    <tr>\n      <th>13390</th>\n      <td>volkswagen</td>\n      <td>h1</td>\n      <td>21800</td>\n      <td>2018</td>\n      <td>148087.0</td>\n      <td>Heel Nederland</td>\n      <td>In every province</td>\n      <td>Action Lease</td>\n      <td>volkswagen transporter l1 h1 2018 €306 per maand</td>\n    </tr>\n    <tr>\n      <th>13391</th>\n      <td>renault</td>\n      <td>h1</td>\n      <td>24700</td>\n      <td>2021</td>\n      <td>67051.0</td>\n      <td>Heel Nederland</td>\n      <td>In every province</td>\n      <td>Action Lease</td>\n      <td>renault trafic l2 h1 2021 €344 per maand</td>\n    </tr>\n    <tr>\n      <th>13392</th>\n      <td>renault</td>\n      <td>h1</td>\n      <td>41800</td>\n      <td>2022</td>\n      <td>60.0</td>\n      <td>Heel Nederland</td>\n      <td>In every province</td>\n      <td>Action Lease</td>\n      <td>renault master l3 h1 2022 €635 per maand</td>\n    </tr>\n    <tr>\n      <th>13394</th>\n      <td>volkswagen</td>\n      <td>h2</td>\n      <td>17600</td>\n      <td>2017</td>\n      <td>198504.0</td>\n      <td>Heel Nederland</td>\n      <td>In every province</td>\n      <td>Action Lease</td>\n      <td>volkswagen crafter l2 h2 2017 €247 per maand</td>\n    </tr>\n    <tr>\n      <th>13395</th>\n      <td>volkswagen</td>\n      <td>h1</td>\n      <td>20800</td>\n      <td>2018</td>\n      <td>189595.0</td>\n      <td>Heel Nederland</td>\n      <td>In every province</td>\n      <td>Action Lease</td>\n      <td>volkswagen transporter l1 h1 2018 €289 per maand</td>\n    </tr>\n  </tbody>\n</table>\n<p>10687 rows × 9 columns</p>\n</div>"
     },
     "execution_count": 58,
     "metadata": {},
     "output_type": "execute_result"
    }
   ],
   "source": [
    "df_no_trans_ET"
   ],
   "metadata": {
    "collapsed": false
   }
  },
  {
   "cell_type": "markdown",
   "source": [
    "If we choose to drop the engine type and transmission columns before, we are left with 4200."
   ],
   "metadata": {
    "collapsed": false
   }
  },
  {
   "cell_type": "code",
   "execution_count": 59,
   "outputs": [],
   "source": [
    "df_NoNaN.to_csv('data/cleaned/data_NoNaN_all_cols.csv', index=False)\n",
    "df_no_trans_ET.to_csv('data/cleaned/data_NoNaN.csv', index=False)"
   ],
   "metadata": {
    "collapsed": false
   }
  },
  {
   "cell_type": "code",
   "execution_count": null,
   "outputs": [],
   "source": [],
   "metadata": {
    "collapsed": false
   }
  }
 ],
 "metadata": {
  "kernelspec": {
   "display_name": "Python 3",
   "language": "python",
   "name": "python3"
  },
  "language_info": {
   "codemirror_mode": {
    "name": "ipython",
    "version": 3
   },
   "file_extension": ".py",
   "mimetype": "text/x-python",
   "name": "python",
   "nbconvert_exporter": "python",
   "pygments_lexer": "ipython3",
   "version": "3.9.13"
  }
 },
 "nbformat": 4,
 "nbformat_minor": 0
}
