{
 "cells": [
  {
   "cell_type": "code",
   "execution_count": 1,
   "metadata": {
    "collapsed": true
   },
   "outputs": [
    {
     "name": "stdout",
     "output_type": "stream",
     "text": [
      "1\n",
      "2\n",
      "3\n",
      "4\n",
      "5\n",
      "6\n",
      "7\n",
      "8\n",
      "9\n",
      "10\n",
      "11\n",
      "12\n",
      "13\n",
      "14\n",
      "15\n",
      "16\n",
      "17\n",
      "18\n",
      "19\n",
      "20\n",
      "21\n",
      "22\n",
      "23\n",
      "24\n",
      "25\n",
      "26\n",
      "27\n",
      "28\n",
      "29\n",
      "30\n",
      "31\n",
      "32\n",
      "33\n",
      "34\n",
      "35\n",
      "36\n",
      "37\n",
      "38\n",
      "39\n",
      "40\n",
      "41\n",
      "42\n",
      "43\n",
      "44\n",
      "45\n",
      "46\n",
      "47\n",
      "48\n",
      "49\n",
      "50\n",
      "51\n",
      "52\n",
      "53\n",
      "54\n",
      "55\n",
      "56\n",
      "57\n",
      "58\n",
      "59\n"
     ]
    }
   ],
   "source": [
    "from bs4 import BeautifulSoup\n",
    "import requests\n",
    "import time\n",
    "\n",
    "\n",
    "ads = []\n",
    "\n",
    "for page_number in range(1, 60):\n",
    "    print(page_number)\n",
    "    url = 'https://www.marktplaats.nl/l/auto-s/p/' + str(page_number) + '/#f:10898'\n",
    "\n",
    "    page = requests.get(url)\n",
    "    soup = BeautifulSoup(page.content, 'html.parser')\n",
    "    lists = soup.find_all('li', class_='hz-Listing')\n",
    "    ran, engine_type, transmission, body = None, None, None, None\n",
    "    for list in lists:\n",
    "        title = list.find('h3', class_='hz-Listing-title')\n",
    "        if title!=None:\n",
    "            title = title.text\n",
    "        seller = list.find('span', class_='hz-Listing-seller-name')\n",
    "        if seller!=None:\n",
    "            seller = seller.text\n",
    "        price = list.find('div', class_=\"hz-Listing-price\")\n",
    "        if price!=None:\n",
    "            price = price.text[2:]\n",
    "        location = list.find('div', class_='hz-Listing-sellerLocation')\n",
    "        if location!=None:\n",
    "            location = location.text\n",
    "        year = list.find('span', class_=\"hz-Attribute\")\n",
    "        if year!=None:\n",
    "            year = year.text\n",
    "            ran = list.find('span', class_=\"hz-Attribute\").find_next('span')\n",
    "            if ran!= None:\n",
    "                ran = ran.text\n",
    "                engine_type = list.find('span', class_=\"hz-Attribute\").find_next('span').find_next('span')\n",
    "                if engine_type!=None:\n",
    "                    engine_type = engine_type.text\n",
    "                    transmission = list.find('span', class_=\"hz-Attribute\").find_next('span').find_next('span').find_next('span')\n",
    "                    if transmission!=None:\n",
    "                        transmission = transmission.text\n",
    "                        body = list.find('span', class_=\"hz-Attribute\").find_next('span').find_next('span').find_next('span').find_next('span')\n",
    "                        if body !=None:\n",
    "                            body = body.text\n",
    "        info = [title, seller, price, location, year, ran, engine_type, transmission, body]\n",
    "        ads.append(info)"
   ]
  },
  {
   "cell_type": "code",
   "execution_count": null,
   "outputs": [],
   "source": [],
   "metadata": {
    "collapsed": false
   }
  },
  {
   "cell_type": "code",
   "execution_count": 2,
   "outputs": [],
   "source": [
    "import csv\n",
    "with open('C:/Users/01din/Documents/University/DA/madness/data_4.csv', 'w', newline='', encoding=\"utf-8\") as file:\n",
    "    writer = csv.writer(file)\n",
    "\n",
    "    # write the header row\n",
    "    writer.writerow([\"Title\", \"Seller\", \"Price\", \"Location\", \"Year\", \"Ran\", \"Engine Type\", \"Transmission\", \"Body\"])\n",
    "\n",
    "    # write the data rows\n",
    "    for row in ads:\n",
    "        writer.writerow(row)"
   ],
   "metadata": {
    "collapsed": false
   }
  },
  {
   "cell_type": "code",
   "execution_count": null,
   "outputs": [],
   "source": [],
   "metadata": {
    "collapsed": false
   }
  }
 ],
 "metadata": {
  "kernelspec": {
   "display_name": "Python 3",
   "language": "python",
   "name": "python3"
  },
  "language_info": {
   "codemirror_mode": {
    "name": "ipython",
    "version": 2
   },
   "file_extension": ".py",
   "mimetype": "text/x-python",
   "name": "python",
   "nbconvert_exporter": "python",
   "pygments_lexer": "ipython2",
   "version": "2.7.6"
  }
 },
 "nbformat": 4,
 "nbformat_minor": 0
}
