{
 "cells": [
  {
   "cell_type": "code",
   "execution_count": 39,
   "outputs": [],
   "source": [
    "import numpy as np\n",
    "import pandas as pd"
   ],
   "metadata": {
    "collapsed": false
   }
  },
  {
   "cell_type": "code",
   "execution_count": 20,
   "metadata": {
    "collapsed": true
   },
   "outputs": [],
   "source": [
    "df = pd.read_csv('C:/Users/01din/Documents/University/DA/madness/data.csv')\n",
    "df1 = pd.read_csv('C:/Users/01din/Documents/University/DA/madness/data_1.csv')\n",
    "df2 = pd.read_csv('C:/Users/01din/Documents/University/DA/madness/data_3.csv')\n",
    "df3 = pd.read_csv('C:/Users/01din/Documents/University/DA/madness/data_4.csv')\n",
    "df4 = pd.read_csv('C:/Users/01din/Documents/University/DA/madness/data_1_dealer.csv')\n",
    "df5 = pd.read_csv('C:/Users/01din/Documents/University/DA/madness/data_2_dealer.csv')\n",
    "df6 = pd.read_csv('C:/Users/01din/Documents/University/DA/madness/data_3_dealer.csv')"
   ]
  },
  {
   "cell_type": "code",
   "execution_count": 21,
   "outputs": [],
   "source": [
    "df = pd.concat([df, df1, df2, df3, df4, df5, df6])"
   ],
   "metadata": {
    "collapsed": false
   }
  },
  {
   "cell_type": "markdown",
   "source": [
    "Check contents of cells; lot of cleaning to be done!"
   ],
   "metadata": {
    "collapsed": false
   }
  },
  {
   "cell_type": "code",
   "execution_count": 22,
   "outputs": [
    {
     "data": {
      "text/plain": "                                                  Title                Seller  \\\n0     Overheidsveiling bedrijfsvoertuigen & groen- e...  Onlineveilingmeester   \n1     Fiat Doblo Cargo 1.9 JTD Grijs Kenteken Bestel...             I Boumans   \n2     Ford Ranger Open-laadbak 2.2TDCI 160PK Dubbele...            DUTCH Vans   \n3     Aixam Roadline -2008- incl. 3 mnd garantie + o...   Garage Kaal & Buunk   \n4            Audi A3 S-Line Sportback Facelift 2013 Wit                Jeroen   \n...                                                 ...                   ...   \n1695  Mitsubishi Outlander 2.0 I Phev 4WD 2015 Wit, ...                Simone   \n1696  Peugeot 2008 1.2 PureTech Féline 130PK! Pano/N...     Beer van Susteren   \n1697  Audi Q7 3.0 TFSI quattro 2xS-line luchtvering-...       Diverse koopjes   \n1698  Ferret scout car MK II  Operation Granby Desse...           Gert Zwiers   \n1699  Volkswagen Caddy Bestelbus 2.0TDI 150PK DSG Au...            DUTCH Vans   \n\n               Price          Location   Year         Ran Engine Type  \\\n0     e omschrijving        Heerenveen    NaN         NaN         NaN   \n1              500,-            Gennep  2005   199.313 km     Diesel    \n2           22.600,-         Barneveld  2017   107.195 km     Diesel    \n3            6.950,-              Beek  2008    47.108 km     Diesel    \n4           11.000,-              Lent  2013   201.500 km         NaN   \n...              ...               ...    ...         ...         ...   \n1695        16.950,-           Twijzel  2015   235.131 km         NaN   \n1696        11.790,-        Nederweert  2015   139.180 km         NaN   \n1697        46.950,-        Oosterhout  2016   188.000 km    Benzine    \n1698        39.500,-  Emmer-Compascuum  1959     Benzine    Automaat    \n1699        17.700,-         Barneveld  2018   180.088 km     Diesel    \n\n                Transmission                  Body  \n0                        NaN                   NaN  \n1            Handgeschakeld              I Boumans  \n2            Handgeschakeld             DUTCH Vans  \n3                  Automaat    Garage Kaal & Buunk  \n4                   Benzine        Handgeschakeld   \n...                      ...                   ...  \n1695                    LPG              Automaat   \n1696                Benzine        Handgeschakeld   \n1697               Automaat   SUV of Terreinwagen   \n1698  Overige carrosserieën            Gert Zwiers  \n1699               Automaat             DUTCH Vans  \n\n[11696 rows x 9 columns]",
      "text/html": "<div>\n<style scoped>\n    .dataframe tbody tr th:only-of-type {\n        vertical-align: middle;\n    }\n\n    .dataframe tbody tr th {\n        vertical-align: top;\n    }\n\n    .dataframe thead th {\n        text-align: right;\n    }\n</style>\n<table border=\"1\" class=\"dataframe\">\n  <thead>\n    <tr style=\"text-align: right;\">\n      <th></th>\n      <th>Title</th>\n      <th>Seller</th>\n      <th>Price</th>\n      <th>Location</th>\n      <th>Year</th>\n      <th>Ran</th>\n      <th>Engine Type</th>\n      <th>Transmission</th>\n      <th>Body</th>\n    </tr>\n  </thead>\n  <tbody>\n    <tr>\n      <th>0</th>\n      <td>Overheidsveiling bedrijfsvoertuigen &amp; groen- e...</td>\n      <td>Onlineveilingmeester</td>\n      <td>e omschrijving</td>\n      <td>Heerenveen</td>\n      <td>NaN</td>\n      <td>NaN</td>\n      <td>NaN</td>\n      <td>NaN</td>\n      <td>NaN</td>\n    </tr>\n    <tr>\n      <th>1</th>\n      <td>Fiat Doblo Cargo 1.9 JTD Grijs Kenteken Bestel...</td>\n      <td>I Boumans</td>\n      <td>500,-</td>\n      <td>Gennep</td>\n      <td>2005</td>\n      <td>199.313 km</td>\n      <td>Diesel</td>\n      <td>Handgeschakeld</td>\n      <td>I Boumans</td>\n    </tr>\n    <tr>\n      <th>2</th>\n      <td>Ford Ranger Open-laadbak 2.2TDCI 160PK Dubbele...</td>\n      <td>DUTCH Vans</td>\n      <td>22.600,-</td>\n      <td>Barneveld</td>\n      <td>2017</td>\n      <td>107.195 km</td>\n      <td>Diesel</td>\n      <td>Handgeschakeld</td>\n      <td>DUTCH Vans</td>\n    </tr>\n    <tr>\n      <th>3</th>\n      <td>Aixam Roadline -2008- incl. 3 mnd garantie + o...</td>\n      <td>Garage Kaal &amp; Buunk</td>\n      <td>6.950,-</td>\n      <td>Beek</td>\n      <td>2008</td>\n      <td>47.108 km</td>\n      <td>Diesel</td>\n      <td>Automaat</td>\n      <td>Garage Kaal &amp; Buunk</td>\n    </tr>\n    <tr>\n      <th>4</th>\n      <td>Audi A3 S-Line Sportback Facelift 2013 Wit</td>\n      <td>Jeroen</td>\n      <td>11.000,-</td>\n      <td>Lent</td>\n      <td>2013</td>\n      <td>201.500 km</td>\n      <td>NaN</td>\n      <td>Benzine</td>\n      <td>Handgeschakeld</td>\n    </tr>\n    <tr>\n      <th>...</th>\n      <td>...</td>\n      <td>...</td>\n      <td>...</td>\n      <td>...</td>\n      <td>...</td>\n      <td>...</td>\n      <td>...</td>\n      <td>...</td>\n      <td>...</td>\n    </tr>\n    <tr>\n      <th>1695</th>\n      <td>Mitsubishi Outlander 2.0 I Phev 4WD 2015 Wit, ...</td>\n      <td>Simone</td>\n      <td>16.950,-</td>\n      <td>Twijzel</td>\n      <td>2015</td>\n      <td>235.131 km</td>\n      <td>NaN</td>\n      <td>LPG</td>\n      <td>Automaat</td>\n    </tr>\n    <tr>\n      <th>1696</th>\n      <td>Peugeot 2008 1.2 PureTech Féline 130PK! Pano/N...</td>\n      <td>Beer van Susteren</td>\n      <td>11.790,-</td>\n      <td>Nederweert</td>\n      <td>2015</td>\n      <td>139.180 km</td>\n      <td>NaN</td>\n      <td>Benzine</td>\n      <td>Handgeschakeld</td>\n    </tr>\n    <tr>\n      <th>1697</th>\n      <td>Audi Q7 3.0 TFSI quattro 2xS-line luchtvering-...</td>\n      <td>Diverse koopjes</td>\n      <td>46.950,-</td>\n      <td>Oosterhout</td>\n      <td>2016</td>\n      <td>188.000 km</td>\n      <td>Benzine</td>\n      <td>Automaat</td>\n      <td>SUV of Terreinwagen</td>\n    </tr>\n    <tr>\n      <th>1698</th>\n      <td>Ferret scout car MK II  Operation Granby Desse...</td>\n      <td>Gert Zwiers</td>\n      <td>39.500,-</td>\n      <td>Emmer-Compascuum</td>\n      <td>1959</td>\n      <td>Benzine</td>\n      <td>Automaat</td>\n      <td>Overige carrosserieën</td>\n      <td>Gert Zwiers</td>\n    </tr>\n    <tr>\n      <th>1699</th>\n      <td>Volkswagen Caddy Bestelbus 2.0TDI 150PK DSG Au...</td>\n      <td>DUTCH Vans</td>\n      <td>17.700,-</td>\n      <td>Barneveld</td>\n      <td>2018</td>\n      <td>180.088 km</td>\n      <td>Diesel</td>\n      <td>Automaat</td>\n      <td>DUTCH Vans</td>\n    </tr>\n  </tbody>\n</table>\n<p>11696 rows × 9 columns</p>\n</div>"
     },
     "execution_count": 22,
     "metadata": {},
     "output_type": "execute_result"
    }
   ],
   "source": [
    "df"
   ],
   "metadata": {
    "collapsed": false
   }
  },
  {
   "cell_type": "code",
   "execution_count": 23,
   "outputs": [
    {
     "data": {
      "text/plain": "Handgeschakeld          2019\nHatchback               1271\nAutomaat                1265\nRegeljelease.nl         1010\nSUV of Terreinwagen      995\n                        ... \nArsenius                   1\nKRC                        1\n2010                       1\n2021                       1\n2011                       1\nName: Body, Length: 250, dtype: int64"
     },
     "execution_count": 23,
     "metadata": {},
     "output_type": "execute_result"
    }
   ],
   "source": [
    "df.Body.value_counts()"
   ],
   "metadata": {
    "collapsed": false
   }
  },
  {
   "cell_type": "markdown",
   "source": [
    "Exctract only correct values, by mapping the correct values all others will be set to NaN"
   ],
   "metadata": {
    "collapsed": false
   }
  },
  {
   "cell_type": "code",
   "execution_count": 24,
   "outputs": [
    {
     "name": "stderr",
     "output_type": "stream",
     "text": [
      "C:\\Users\\01din\\AppData\\Local\\Temp\\ipykernel_4628\\2221052416.py:3: FutureWarning: The pandas.np module is deprecated and will be removed from pandas in a future version. Import numpy directly instead.\n",
      "  df.loc[~df['Body'].isin(bodies), 'Body'] = pd.np.nan\n"
     ]
    }
   ],
   "source": [
    "bodies = ['Overige carrosserieën ', 'Stationwagon ', 'Coupé ', 'SUV of Terreinwagen ', 'Hatchback ', 'Sedan ', 'Cabriolet ', 'MPV ']\n",
    "\n",
    "df.loc[~df['Body'].isin(bodies), 'Body'] = pd.np.nan"
   ],
   "metadata": {
    "collapsed": false
   }
  },
  {
   "cell_type": "code",
   "execution_count": 25,
   "outputs": [
    {
     "data": {
      "text/plain": "Hatchback                 1271\nSUV of Terreinwagen        995\nStationwagon               440\nSedan                      335\nCabriolet                  216\nMPV                        143\nCoupé                      119\nOverige carrosserieën       68\nName: Body, dtype: int64"
     },
     "execution_count": 25,
     "metadata": {},
     "output_type": "execute_result"
    }
   ],
   "source": [
    "df.Body.value_counts()"
   ],
   "metadata": {
    "collapsed": false
   }
  },
  {
   "cell_type": "code",
   "execution_count": 26,
   "outputs": [
    {
     "data": {
      "text/plain": "Handgeschakeld                  4671\nAutomaat                        3295\nBenzine                         2115\nDiesel                           884\nElektrisch                       113\n                                ... \nverhoeftrucks                      1\nMark saam                          1\ninge                               1\nruud                               1\nAuto Aanpassingen Zoetermeer       1\nName: Transmission, Length: 76, dtype: int64"
     },
     "execution_count": 26,
     "metadata": {},
     "output_type": "execute_result"
    }
   ],
   "source": [
    "df.Transmission.value_counts()"
   ],
   "metadata": {
    "collapsed": false
   }
  },
  {
   "cell_type": "code",
   "execution_count": 27,
   "outputs": [
    {
     "name": "stderr",
     "output_type": "stream",
     "text": [
      "C:\\Users\\01din\\AppData\\Local\\Temp\\ipykernel_4628\\898678673.py:3: FutureWarning: The pandas.np module is deprecated and will be removed from pandas in a future version. Import numpy directly instead.\n",
      "  df.loc[~df['Transmission'].isin(transmissions), 'Transmission'] = pd.np.nan\n"
     ]
    }
   ],
   "source": [
    "transmissions = ['Handgeschakeld ', 'Automaat ']\n",
    "\n",
    "df.loc[~df['Transmission'].isin(transmissions), 'Transmission'] = pd.np.nan"
   ],
   "metadata": {
    "collapsed": false
   }
  },
  {
   "cell_type": "code",
   "execution_count": 28,
   "outputs": [
    {
     "data": {
      "text/plain": "Handgeschakeld     4671\nAutomaat           3295\nName: Transmission, dtype: int64"
     },
     "execution_count": 28,
     "metadata": {},
     "output_type": "execute_result"
    }
   ],
   "source": [
    "df.Transmission.value_counts()"
   ],
   "metadata": {
    "collapsed": false
   }
  },
  {
   "cell_type": "code",
   "execution_count": 29,
   "outputs": [
    {
     "data": {
      "text/plain": "Diesel                                  4733\nBenzine                                 2776\nElektrisch                               163\nHybride Elektrisch/Benzine               148\nOverige brandstoffen                     114\nHandgeschakeld                           110\nAutomaat                                  90\nLPG                                       90\nVissinga Bedrijfswagens                   13\nBIT BV                                     9\nDUTCH VANS                                 8\nMillbrooks Ram specialist                  7\nCabriolet                                  4\nJEF Trucks & Trailers                      4\nHybride Elektrisch/Diesel                  4\nBedrijfsauto Inkoop | Auto Verkopen?       4\nMark                                       4\nGerry van  de Sande                        3\nmichael                                    3\nCNG (Aardgas)                              3\nKihon                                      3\ngert en sandra                             2\nAutomotive Soest                           2\nKlussenbedrijf Goldenhands                 2\ndirkdegroot handelsonderneming             2\nAuctionPort                                2\nAGPRO BV                                   2\nMidejo machines                            2\nDavid Rudolf                               2\nPaes Classics                              2\nErwin                                      2\nrijsenhout                                 1\nVan Bindsbergen Minicars                   1\nroks                                       1\nHatchback                                  1\njohan                                      1\nRonald Verwimp                             1\nGert                                       1\nClassic Sales                              1\nhandelsonderneming Rejoh                   1\nBourjel                                    1\nAutoservice HSN                            1\nh&bclassiccars                             1\nkooy                                       1\nNiels                                      1\nRudi                                       1\nj&a auto's                                 1\nroefs                                      1\nhenk                                       1\nghos                                       1\nZachary Wallen                             1\nSil                                        1\nwj bek                                     1\nVb                                         1\nAuto Aanpassingen Zoetermeer               1\nName: Engine Type, dtype: int64"
     },
     "execution_count": 29,
     "metadata": {},
     "output_type": "execute_result"
    }
   ],
   "source": [
    "df['Engine Type'].value_counts()"
   ],
   "metadata": {
    "collapsed": false
   }
  },
  {
   "cell_type": "code",
   "execution_count": 30,
   "outputs": [
    {
     "name": "stderr",
     "output_type": "stream",
     "text": [
      "C:\\Users\\01din\\AppData\\Local\\Temp\\ipykernel_4628\\3416857473.py:3: FutureWarning: The pandas.np module is deprecated and will be removed from pandas in a future version. Import numpy directly instead.\n",
      "  df.loc[~df['Engine Type'].isin(engine_types), 'Engine Type'] = pd.np.nan\n"
     ]
    }
   ],
   "source": [
    "engine_types = ['Diesel ', 'Benzine ', 'Elektrisch ', 'Hybride Elektrisch/Benzine ', 'Overige brandstoffen ', 'LPG ', 'Hybride Elektrisch/Diesel ', 'CNG (Aardgas) ']\n",
    "\n",
    "df.loc[~df['Engine Type'].isin(engine_types), 'Engine Type'] = pd.np.nan"
   ],
   "metadata": {
    "collapsed": false
   }
  },
  {
   "cell_type": "code",
   "execution_count": 31,
   "outputs": [
    {
     "data": {
      "text/plain": "Diesel                         4733\nBenzine                        2776\nElektrisch                      163\nHybride Elektrisch/Benzine      148\nOverige brandstoffen            114\nLPG                              90\nHybride Elektrisch/Diesel         4\nCNG (Aardgas)                     3\nName: Engine Type, dtype: int64"
     },
     "execution_count": 31,
     "metadata": {},
     "output_type": "execute_result"
    }
   ],
   "source": [
    "df['Engine Type'].value_counts()"
   ],
   "metadata": {
    "collapsed": false
   }
  },
  {
   "cell_type": "code",
   "execution_count": 32,
   "outputs": [
    {
     "data": {
      "text/plain": "'199.313 km'"
     },
     "execution_count": 32,
     "metadata": {},
     "output_type": "execute_result"
    }
   ],
   "source": [
    "df.Ran.iloc[1]"
   ],
   "metadata": {
    "collapsed": false
   }
  },
  {
   "cell_type": "code",
   "execution_count": 47,
   "outputs": [],
   "source": [
    "df.Ran = df.Ran.astype(str)\n",
    "mask = ~df['Ran'].str.endswith('km')"
   ],
   "metadata": {
    "collapsed": false
   }
  },
  {
   "cell_type": "code",
   "execution_count": 48,
   "outputs": [],
   "source": [
    "df.loc[mask, 'Ran'] = np.nan"
   ],
   "metadata": {
    "collapsed": false
   }
  },
  {
   "cell_type": "code",
   "execution_count": 53,
   "outputs": [
    {
     "data": {
      "text/plain": "                                                  Title                Seller  \\\n0     Overheidsveiling bedrijfsvoertuigen & groen- e...  Onlineveilingmeester   \n1     Fiat Doblo Cargo 1.9 JTD Grijs Kenteken Bestel...             I Boumans   \n2     Ford Ranger Open-laadbak 2.2TDCI 160PK Dubbele...            DUTCH Vans   \n3     Aixam Roadline -2008- incl. 3 mnd garantie + o...   Garage Kaal & Buunk   \n4            Audi A3 S-Line Sportback Facelift 2013 Wit                Jeroen   \n...                                                 ...                   ...   \n1695  Mitsubishi Outlander 2.0 I Phev 4WD 2015 Wit, ...                Simone   \n1696  Peugeot 2008 1.2 PureTech Féline 130PK! Pano/N...     Beer van Susteren   \n1697  Audi Q7 3.0 TFSI quattro 2xS-line luchtvering-...       Diverse koopjes   \n1698  Ferret scout car MK II  Operation Granby Desse...           Gert Zwiers   \n1699  Volkswagen Caddy Bestelbus 2.0TDI 150PK DSG Au...            DUTCH Vans   \n\n               Price          Location   Year         Ran Engine Type  \\\n0     e omschrijving        Heerenveen    nan         NaN         NaN   \n1              500,-            Gennep  2005   199.313 km     Diesel    \n2           22.600,-         Barneveld  2017   107.195 km     Diesel    \n3            6.950,-              Beek  2008    47.108 km     Diesel    \n4           11.000,-              Lent  2013   201.500 km         NaN   \n...              ...               ...    ...         ...         ...   \n1695        16.950,-           Twijzel  2015   235.131 km         NaN   \n1696        11.790,-        Nederweert  2015   139.180 km         NaN   \n1697        46.950,-        Oosterhout  2016   188.000 km    Benzine    \n1698        39.500,-  Emmer-Compascuum  1959          NaN         NaN   \n1699        17.700,-         Barneveld  2018   180.088 km     Diesel    \n\n         Transmission                  Body  \n0                 NaN                   NaN  \n1     Handgeschakeld                    NaN  \n2     Handgeschakeld                    NaN  \n3           Automaat                    NaN  \n4                 NaN                   NaN  \n...               ...                   ...  \n1695              NaN                   NaN  \n1696              NaN                   NaN  \n1697        Automaat   SUV of Terreinwagen   \n1698              NaN                   NaN  \n1699        Automaat                    NaN  \n\n[11696 rows x 9 columns]",
      "text/html": "<div>\n<style scoped>\n    .dataframe tbody tr th:only-of-type {\n        vertical-align: middle;\n    }\n\n    .dataframe tbody tr th {\n        vertical-align: top;\n    }\n\n    .dataframe thead th {\n        text-align: right;\n    }\n</style>\n<table border=\"1\" class=\"dataframe\">\n  <thead>\n    <tr style=\"text-align: right;\">\n      <th></th>\n      <th>Title</th>\n      <th>Seller</th>\n      <th>Price</th>\n      <th>Location</th>\n      <th>Year</th>\n      <th>Ran</th>\n      <th>Engine Type</th>\n      <th>Transmission</th>\n      <th>Body</th>\n    </tr>\n  </thead>\n  <tbody>\n    <tr>\n      <th>0</th>\n      <td>Overheidsveiling bedrijfsvoertuigen &amp; groen- e...</td>\n      <td>Onlineveilingmeester</td>\n      <td>e omschrijving</td>\n      <td>Heerenveen</td>\n      <td>nan</td>\n      <td>NaN</td>\n      <td>NaN</td>\n      <td>NaN</td>\n      <td>NaN</td>\n    </tr>\n    <tr>\n      <th>1</th>\n      <td>Fiat Doblo Cargo 1.9 JTD Grijs Kenteken Bestel...</td>\n      <td>I Boumans</td>\n      <td>500,-</td>\n      <td>Gennep</td>\n      <td>2005</td>\n      <td>199.313 km</td>\n      <td>Diesel</td>\n      <td>Handgeschakeld</td>\n      <td>NaN</td>\n    </tr>\n    <tr>\n      <th>2</th>\n      <td>Ford Ranger Open-laadbak 2.2TDCI 160PK Dubbele...</td>\n      <td>DUTCH Vans</td>\n      <td>22.600,-</td>\n      <td>Barneveld</td>\n      <td>2017</td>\n      <td>107.195 km</td>\n      <td>Diesel</td>\n      <td>Handgeschakeld</td>\n      <td>NaN</td>\n    </tr>\n    <tr>\n      <th>3</th>\n      <td>Aixam Roadline -2008- incl. 3 mnd garantie + o...</td>\n      <td>Garage Kaal &amp; Buunk</td>\n      <td>6.950,-</td>\n      <td>Beek</td>\n      <td>2008</td>\n      <td>47.108 km</td>\n      <td>Diesel</td>\n      <td>Automaat</td>\n      <td>NaN</td>\n    </tr>\n    <tr>\n      <th>4</th>\n      <td>Audi A3 S-Line Sportback Facelift 2013 Wit</td>\n      <td>Jeroen</td>\n      <td>11.000,-</td>\n      <td>Lent</td>\n      <td>2013</td>\n      <td>201.500 km</td>\n      <td>NaN</td>\n      <td>NaN</td>\n      <td>NaN</td>\n    </tr>\n    <tr>\n      <th>...</th>\n      <td>...</td>\n      <td>...</td>\n      <td>...</td>\n      <td>...</td>\n      <td>...</td>\n      <td>...</td>\n      <td>...</td>\n      <td>...</td>\n      <td>...</td>\n    </tr>\n    <tr>\n      <th>1695</th>\n      <td>Mitsubishi Outlander 2.0 I Phev 4WD 2015 Wit, ...</td>\n      <td>Simone</td>\n      <td>16.950,-</td>\n      <td>Twijzel</td>\n      <td>2015</td>\n      <td>235.131 km</td>\n      <td>NaN</td>\n      <td>NaN</td>\n      <td>NaN</td>\n    </tr>\n    <tr>\n      <th>1696</th>\n      <td>Peugeot 2008 1.2 PureTech Féline 130PK! Pano/N...</td>\n      <td>Beer van Susteren</td>\n      <td>11.790,-</td>\n      <td>Nederweert</td>\n      <td>2015</td>\n      <td>139.180 km</td>\n      <td>NaN</td>\n      <td>NaN</td>\n      <td>NaN</td>\n    </tr>\n    <tr>\n      <th>1697</th>\n      <td>Audi Q7 3.0 TFSI quattro 2xS-line luchtvering-...</td>\n      <td>Diverse koopjes</td>\n      <td>46.950,-</td>\n      <td>Oosterhout</td>\n      <td>2016</td>\n      <td>188.000 km</td>\n      <td>Benzine</td>\n      <td>Automaat</td>\n      <td>SUV of Terreinwagen</td>\n    </tr>\n    <tr>\n      <th>1698</th>\n      <td>Ferret scout car MK II  Operation Granby Desse...</td>\n      <td>Gert Zwiers</td>\n      <td>39.500,-</td>\n      <td>Emmer-Compascuum</td>\n      <td>1959</td>\n      <td>NaN</td>\n      <td>NaN</td>\n      <td>NaN</td>\n      <td>NaN</td>\n    </tr>\n    <tr>\n      <th>1699</th>\n      <td>Volkswagen Caddy Bestelbus 2.0TDI 150PK DSG Au...</td>\n      <td>DUTCH Vans</td>\n      <td>17.700,-</td>\n      <td>Barneveld</td>\n      <td>2018</td>\n      <td>180.088 km</td>\n      <td>Diesel</td>\n      <td>Automaat</td>\n      <td>NaN</td>\n    </tr>\n  </tbody>\n</table>\n<p>11696 rows × 9 columns</p>\n</div>"
     },
     "execution_count": 53,
     "metadata": {},
     "output_type": "execute_result"
    }
   ],
   "source": [
    "df.Ran.value_counts()"
   ],
   "metadata": {
    "collapsed": false
   }
  },
  {
   "cell_type": "code",
   "execution_count": 44,
   "outputs": [],
   "source": [
    "df.Year = df.Year.astype(str)\n",
    "mask = ~df['Year'].str.len() == 4"
   ],
   "metadata": {
    "collapsed": false
   }
  },
  {
   "cell_type": "code",
   "execution_count": 54,
   "outputs": [],
   "source": [
    "df.loc[mask, 'Year'] = np.nan"
   ],
   "metadata": {
    "collapsed": false
   }
  },
  {
   "cell_type": "code",
   "execution_count": 55,
   "outputs": [
    {
     "data": {
      "text/plain": "2018     1450\n2017     1197\n2019     1089\n2016      961\n2020      872\n         ... \n1959        1\n1964        1\n1965        1\n1954        1\n1929        1\nName: Year, Length: 71, dtype: int64"
     },
     "execution_count": 55,
     "metadata": {},
     "output_type": "execute_result"
    }
   ],
   "source": [
    "df.Year.value_counts()"
   ],
   "metadata": {
    "collapsed": false
   }
  },
  {
   "cell_type": "code",
   "execution_count": 58,
   "outputs": [],
   "source": [
    "df.to_csv('C:/Users/01din/Documents/University/DA/madness/data_clean.csv')"
   ],
   "metadata": {
    "collapsed": false
   }
  },
  {
   "cell_type": "code",
   "execution_count": null,
   "outputs": [],
   "source": [],
   "metadata": {
    "collapsed": false
   }
  }
 ],
 "metadata": {
  "kernelspec": {
   "display_name": "Python 3",
   "language": "python",
   "name": "python3"
  },
  "language_info": {
   "codemirror_mode": {
    "name": "ipython",
    "version": 2
   },
   "file_extension": ".py",
   "mimetype": "text/x-python",
   "name": "python",
   "nbconvert_exporter": "python",
   "pygments_lexer": "ipython2",
   "version": "2.7.6"
  }
 },
 "nbformat": 4,
 "nbformat_minor": 0
}
