{
 "cells": [
  {
   "cell_type": "code",
   "execution_count": 32,
   "metadata": {},
   "outputs": [],
   "source": [
    "import numpy as np\n",
    "import pandas as pd\n",
    "\n",
    "import matplotlib.pyplot as plt\n",
    "import seaborn as sns\n",
    "\n",
    "from sklearn import linear_model as lm\n",
    "from sklearn.model_selection import train_test_split\n",
    "from sklearn.model_selection import KFold\n",
    "\n",
    "# Plot settings\n",
    "plt.rcParams['figure.figsize'] = (12, 9)\n",
    "plt.rcParams['font.size'] = 12\n",
    "df = pd.read_csv('D:\\Project 2-1 gui\\carmadness\\data_clean_NoNaN.csv')\n",
    "df.drop(columns=['Unnamed: 0'], inplace=True)\n"
   ]
  },
  {
   "cell_type": "code",
   "execution_count": 33,
   "metadata": {},
   "outputs": [
    {
     "data": {
      "text/html": [
       "<div>\n",
       "<style scoped>\n",
       "    .dataframe tbody tr th:only-of-type {\n",
       "        vertical-align: middle;\n",
       "    }\n",
       "\n",
       "    .dataframe tbody tr th {\n",
       "        vertical-align: top;\n",
       "    }\n",
       "\n",
       "    .dataframe thead th {\n",
       "        text-align: right;\n",
       "    }\n",
       "</style>\n",
       "<table border=\"1\" class=\"dataframe\">\n",
       "  <thead>\n",
       "    <tr style=\"text-align: right;\">\n",
       "      <th></th>\n",
       "      <th>Title</th>\n",
       "      <th>Seller</th>\n",
       "      <th>Price</th>\n",
       "      <th>Location</th>\n",
       "      <th>Year</th>\n",
       "      <th>Ran</th>\n",
       "      <th>Engine Type</th>\n",
       "      <th>Transmission</th>\n",
       "      <th>Body</th>\n",
       "      <th>province</th>\n",
       "    </tr>\n",
       "  </thead>\n",
       "  <tbody>\n",
       "    <tr>\n",
       "      <th>1</th>\n",
       "      <td>Fiat Doblo Cargo 1.9 JTD Grijs Kenteken Bestel...</td>\n",
       "      <td>I Boumans</td>\n",
       "      <td>18500</td>\n",
       "      <td>Gennep</td>\n",
       "      <td>2005</td>\n",
       "      <td>199.313 km</td>\n",
       "      <td>Diesel</td>\n",
       "      <td>Handgeschakeld</td>\n",
       "      <td>NaN</td>\n",
       "      <td>Limburg</td>\n",
       "    </tr>\n",
       "    <tr>\n",
       "      <th>2</th>\n",
       "      <td>Ford Ranger Open-laadbak 2.2TDCI 160PK Dubbele...</td>\n",
       "      <td>DUTCH Vans</td>\n",
       "      <td>22600</td>\n",
       "      <td>Barneveld</td>\n",
       "      <td>2017</td>\n",
       "      <td>107.195 km</td>\n",
       "      <td>Diesel</td>\n",
       "      <td>Handgeschakeld</td>\n",
       "      <td>NaN</td>\n",
       "      <td>Gelderland</td>\n",
       "    </tr>\n",
       "    <tr>\n",
       "      <th>3</th>\n",
       "      <td>Aixam Roadline -2008- incl. 3 mnd garantie + o...</td>\n",
       "      <td>Garage Kaal &amp; Buunk</td>\n",
       "      <td>6950</td>\n",
       "      <td>Beek</td>\n",
       "      <td>2008</td>\n",
       "      <td>47.108 km</td>\n",
       "      <td>Diesel</td>\n",
       "      <td>Automaat</td>\n",
       "      <td>NaN</td>\n",
       "      <td>Limburg</td>\n",
       "    </tr>\n",
       "    <tr>\n",
       "      <th>4</th>\n",
       "      <td>Audi A3 S-Line Sportback Facelift 2013 Wit</td>\n",
       "      <td>Jeroen</td>\n",
       "      <td>11000</td>\n",
       "      <td>Lent</td>\n",
       "      <td>2013</td>\n",
       "      <td>201.500 km</td>\n",
       "      <td>NaN</td>\n",
       "      <td>NaN</td>\n",
       "      <td>NaN</td>\n",
       "      <td>Gelderland</td>\n",
       "    </tr>\n",
       "    <tr>\n",
       "      <th>5</th>\n",
       "      <td>Mercedes-Benz Sprinter 314CDI 143pk L2H2 Koelw...</td>\n",
       "      <td>Van der Wal Vans</td>\n",
       "      <td>32900</td>\n",
       "      <td>Langerak</td>\n",
       "      <td>2018</td>\n",
       "      <td>148.939 km</td>\n",
       "      <td>Diesel</td>\n",
       "      <td>Handgeschakeld</td>\n",
       "      <td>NaN</td>\n",
       "      <td>Drenthe</td>\n",
       "    </tr>\n",
       "    <tr>\n",
       "      <th>...</th>\n",
       "      <td>...</td>\n",
       "      <td>...</td>\n",
       "      <td>...</td>\n",
       "      <td>...</td>\n",
       "      <td>...</td>\n",
       "      <td>...</td>\n",
       "      <td>...</td>\n",
       "      <td>...</td>\n",
       "      <td>...</td>\n",
       "      <td>...</td>\n",
       "    </tr>\n",
       "    <tr>\n",
       "      <th>13391</th>\n",
       "      <td>Renault Trafic L2 H1 2021 €344 per maand</td>\n",
       "      <td>Action Lease</td>\n",
       "      <td>24700</td>\n",
       "      <td>Heel Nederland</td>\n",
       "      <td>2021</td>\n",
       "      <td>67.051 km</td>\n",
       "      <td>Diesel</td>\n",
       "      <td>Handgeschakeld</td>\n",
       "      <td>NaN</td>\n",
       "      <td>In every province</td>\n",
       "    </tr>\n",
       "    <tr>\n",
       "      <th>13392</th>\n",
       "      <td>Renault Master L3 H1 2022 €635 per maand</td>\n",
       "      <td>Action Lease</td>\n",
       "      <td>41800</td>\n",
       "      <td>Heel Nederland</td>\n",
       "      <td>2022</td>\n",
       "      <td>60 km</td>\n",
       "      <td>Diesel</td>\n",
       "      <td>Handgeschakeld</td>\n",
       "      <td>NaN</td>\n",
       "      <td>In every province</td>\n",
       "    </tr>\n",
       "    <tr>\n",
       "      <th>13393</th>\n",
       "      <td>Iveco Daily L2 H2 2022 €648 per maand</td>\n",
       "      <td>Action Lease</td>\n",
       "      <td>42600</td>\n",
       "      <td>Heel Nederland</td>\n",
       "      <td>2022</td>\n",
       "      <td>30 km</td>\n",
       "      <td>Diesel</td>\n",
       "      <td>Automaat</td>\n",
       "      <td>NaN</td>\n",
       "      <td>In every province</td>\n",
       "    </tr>\n",
       "    <tr>\n",
       "      <th>13394</th>\n",
       "      <td>Volkswagen Crafter L2 H2 2017 €247 per maand</td>\n",
       "      <td>Action Lease</td>\n",
       "      <td>17600</td>\n",
       "      <td>Heel Nederland</td>\n",
       "      <td>2017</td>\n",
       "      <td>198.504 km</td>\n",
       "      <td>Diesel</td>\n",
       "      <td>Handgeschakeld</td>\n",
       "      <td>NaN</td>\n",
       "      <td>In every province</td>\n",
       "    </tr>\n",
       "    <tr>\n",
       "      <th>13395</th>\n",
       "      <td>Volkswagen Transporter L1 H1 2018 €289 per maand</td>\n",
       "      <td>Action Lease</td>\n",
       "      <td>20800</td>\n",
       "      <td>Heel Nederland</td>\n",
       "      <td>2018</td>\n",
       "      <td>189.595 km</td>\n",
       "      <td>Diesel</td>\n",
       "      <td>Handgeschakeld</td>\n",
       "      <td>NaN</td>\n",
       "      <td>In every province</td>\n",
       "    </tr>\n",
       "  </tbody>\n",
       "</table>\n",
       "<p>13006 rows × 10 columns</p>\n",
       "</div>"
      ],
      "text/plain": [
       "                                                   Title               Seller  \\\n",
       "1      Fiat Doblo Cargo 1.9 JTD Grijs Kenteken Bestel...            I Boumans   \n",
       "2      Ford Ranger Open-laadbak 2.2TDCI 160PK Dubbele...           DUTCH Vans   \n",
       "3      Aixam Roadline -2008- incl. 3 mnd garantie + o...  Garage Kaal & Buunk   \n",
       "4             Audi A3 S-Line Sportback Facelift 2013 Wit               Jeroen   \n",
       "5      Mercedes-Benz Sprinter 314CDI 143pk L2H2 Koelw...     Van der Wal Vans   \n",
       "...                                                  ...                  ...   \n",
       "13391           Renault Trafic L2 H1 2021 €344 per maand         Action Lease   \n",
       "13392           Renault Master L3 H1 2022 €635 per maand         Action Lease   \n",
       "13393              Iveco Daily L2 H2 2022 €648 per maand         Action Lease   \n",
       "13394       Volkswagen Crafter L2 H2 2017 €247 per maand         Action Lease   \n",
       "13395   Volkswagen Transporter L1 H1 2018 €289 per maand         Action Lease   \n",
       "\n",
       "       Price        Location   Year         Ran Engine Type     Transmission  \\\n",
       "1      18500          Gennep  2005   199.313 km     Diesel   Handgeschakeld    \n",
       "2      22600       Barneveld  2017   107.195 km     Diesel   Handgeschakeld    \n",
       "3       6950            Beek  2008    47.108 km     Diesel         Automaat    \n",
       "4      11000            Lent  2013   201.500 km         NaN              NaN   \n",
       "5      32900        Langerak  2018   148.939 km     Diesel   Handgeschakeld    \n",
       "...      ...             ...    ...         ...         ...              ...   \n",
       "13391  24700  Heel Nederland  2021    67.051 km     Diesel   Handgeschakeld    \n",
       "13392  41800  Heel Nederland  2022        60 km     Diesel   Handgeschakeld    \n",
       "13393  42600  Heel Nederland  2022        30 km     Diesel         Automaat    \n",
       "13394  17600  Heel Nederland  2017   198.504 km     Diesel   Handgeschakeld    \n",
       "13395  20800  Heel Nederland  2018   189.595 km     Diesel   Handgeschakeld    \n",
       "\n",
       "      Body           province  \n",
       "1      NaN            Limburg  \n",
       "2      NaN         Gelderland  \n",
       "3      NaN            Limburg  \n",
       "4      NaN         Gelderland  \n",
       "5      NaN            Drenthe  \n",
       "...    ...                ...  \n",
       "13391  NaN  In every province  \n",
       "13392  NaN  In every province  \n",
       "13393  NaN  In every province  \n",
       "13394  NaN  In every province  \n",
       "13395  NaN  In every province  \n",
       "\n",
       "[13006 rows x 10 columns]"
      ]
     },
     "execution_count": 33,
     "metadata": {},
     "output_type": "execute_result"
    }
   ],
   "source": [
    "df['Price'] = df['Price'].str.replace('[^0-9]', '', regex=True)\n",
    "df['Price'] = df['Price'].replace('', np.nan)\n",
    "df = df.dropna(subset=['Price'])\n",
    "df['Price'] = pd.to_numeric(df['Price'])\n",
    "df"
   ]
  },
  {
   "attachments": {},
   "cell_type": "markdown",
   "metadata": {},
   "source": [
    "As seen below there are some very large values as a car sale but the mean is much smaller than this therefore we will look at the percentage of total sales compared to how many listings are above 100k."
   ]
  },
  {
   "cell_type": "code",
   "execution_count": 34,
   "metadata": {},
   "outputs": [
    {
     "data": {
      "text/plain": [
       "count    1.300600e+04\n",
       "mean     1.898329e+04\n",
       "std      8.819603e+04\n",
       "min      0.000000e+00\n",
       "25%      3.950000e+03\n",
       "50%      1.290000e+04\n",
       "75%      2.290000e+04\n",
       "max      5.749999e+06\n",
       "Name: Price, dtype: float64"
      ]
     },
     "execution_count": 34,
     "metadata": {},
     "output_type": "execute_result"
    }
   ],
   "source": [
    "df[\"Price\"].describe()"
   ]
  },
  {
   "cell_type": "code",
   "execution_count": 29,
   "metadata": {},
   "outputs": [],
   "source": [
    "def remove_outliers(data, variable, lower=-np.inf, upper=np.inf):\n",
    "    \"\"\"\n",
    "    Input:\n",
    "      data (data frame): the table to be filtered\n",
    "      variable (string): the column with numerical outliers\n",
    "      lower (numeric): observations with values lower than this will be removed\n",
    "      upper (numeric): observations with values higher than this will be removed\n",
    "    \n",
    "    Output:\n",
    "      a winsorized data frame with outliers removed\n",
    "    \"\"\"\n",
    "    return data.loc[(data[variable] > lower) & (data[variable] < upper)]\n",
    "\n",
    "\n",
    "df = remove_outliers(df, 'Price', lower=500, upper=100000)"
   ]
  },
  {
   "cell_type": "code",
   "execution_count": 30,
   "metadata": {},
   "outputs": [
    {
     "data": {
      "text/plain": [
       "count    10504.000000\n",
       "mean     19493.779608\n",
       "std      15221.161209\n",
       "min       1028.000000\n",
       "25%       8900.000000\n",
       "50%      15900.000000\n",
       "75%      24995.000000\n",
       "max      99995.000000\n",
       "Name: Price, dtype: float64"
      ]
     },
     "execution_count": 30,
     "metadata": {},
     "output_type": "execute_result"
    }
   ],
   "source": [
    "df[\"Price\"].describe()\n"
   ]
  },
  {
   "cell_type": "code",
   "execution_count": 31,
   "metadata": {},
   "outputs": [
    {
     "data": {
      "text/plain": [
       "<AxesSubplot:xlabel='Price', ylabel='Count'>"
      ]
     },
     "execution_count": 31,
     "metadata": {},
     "output_type": "execute_result"
    },
    {
     "data": {
      "image/png": "[encoded data removed]",
      "text/plain": [
       "<Figure size 864x648 with 1 Axes>"
      ]
     },
     "metadata": {
      "needs_background": "light"
     },
     "output_type": "display_data"
    }
   ],
   "source": [
    "sns.histplot(\n",
    "   df[\"Price\"],\n",
    "    kde=True,\n",
    ")"
   ]
  }
 ],
 "metadata": {
  "kernelspec": {
   "display_name": "Python 3",
   "language": "python",
   "name": "python3"
  },
  "language_info": {
   "codemirror_mode": {
    "name": "ipython",
    "version": 3
   },
   "file_extension": ".py",
   "mimetype": "text/x-python",
   "name": "python",
   "nbconvert_exporter": "python",
   "pygments_lexer": "ipython3",
   "version": "3.9.13"
  },
  "orig_nbformat": 4
 },
 "nbformat": 4,
 "nbformat_minor": 2
}
